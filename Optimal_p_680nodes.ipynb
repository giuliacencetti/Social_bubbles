{
 "cells": [
  {
   "cell_type": "code",
   "execution_count": 1,
   "metadata": {},
   "outputs": [],
   "source": [
    "import numpy as np\n",
    "import matplotlib.pyplot as plt\n",
    "from tinydb import TinyDB, Query"
   ]
  },
  {
   "cell_type": "code",
   "execution_count": 2,
   "metadata": {},
   "outputs": [],
   "source": [
    "plt.rcParams.update({'font.size': 16})"
   ]
  },
  {
   "cell_type": "code",
   "execution_count": 3,
   "metadata": {},
   "outputs": [],
   "source": [
    "nb_clusters = 10\n",
    "nb_nodes = 680"
   ]
  },
  {
   "cell_type": "markdown",
   "metadata": {},
   "source": [
    "# Bubbles"
   ]
  },
  {
   "cell_type": "code",
   "execution_count": 4,
   "metadata": {},
   "outputs": [],
   "source": [
    "bubbles = True\n",
    "quarantines = 1 - bubbles"
   ]
  },
  {
   "cell_type": "code",
   "execution_count": 5,
   "metadata": {},
   "outputs": [],
   "source": [
    "if bubbles:\n",
    "    db = TinyDB(\"RESULTS/%dnodes/Aggregate_res_bubbles_%dclusters.json\"%(nb_nodes,nb_clusters))\n",
    "elif quarantines:\n",
    "    db = TinyDB(\"RESULTS/%dnodes/Aggregate_res_quarantines_%dclusters.json\"%(nb_nodes,nb_clusters))"
   ]
  },
  {
   "cell_type": "code",
   "execution_count": 6,
   "metadata": {},
   "outputs": [],
   "source": [
    "#db.all()"
   ]
  },
  {
   "cell_type": "code",
   "execution_count": 7,
   "metadata": {},
   "outputs": [
    {
     "data": {
      "text/plain": [
       "23"
      ]
     },
     "execution_count": 7,
     "metadata": {},
     "output_type": "execute_result"
    }
   ],
   "source": [
    "len(db)"
   ]
  },
  {
   "cell_type": "code",
   "execution_count": 8,
   "metadata": {},
   "outputs": [],
   "source": [
    "#db.remove(Res.p == 552)  \n",
    "#db.get(doc_id=66)\n",
    "#db.remove(doc_ids=[4,5])"
   ]
  },
  {
   "cell_type": "code",
   "execution_count": 9,
   "metadata": {},
   "outputs": [],
   "source": [
    "Res = Query()"
   ]
  },
  {
   "cell_type": "code",
   "execution_count": 10,
   "metadata": {},
   "outputs": [],
   "source": [
    "rounds = False"
   ]
  },
  {
   "cell_type": "code",
   "execution_count": 11,
   "metadata": {},
   "outputs": [
    {
     "data": {
      "text/plain": [
       "[{'p_intra': 0.00622,\n",
       "  'p': 5,\n",
       "  'epsI': 0.25,\n",
       "  'epsT': 0,\n",
       "  'Rounds': False,\n",
       "  'maxInf': 291.78499999999997,\n",
       "  'Time1cl': 70.91666666666667,\n",
       "  'Time25': 75.91666666666667,\n",
       "  'Time50': 81.91666666666667,\n",
       "  'Time80': 91.91666666666667},\n",
       " {'p_intra': 0.01209,\n",
       "  'p': 20,\n",
       "  'epsI': 0.25,\n",
       "  'epsT': 0,\n",
       "  'Rounds': False,\n",
       "  'maxInf': 261.29499999999996,\n",
       "  'Time1cl': 45.916666666666664,\n",
       "  'Time25': 51.916666666666664,\n",
       "  'Time50': 55.916666666666664,\n",
       "  'Time80': 60.916666666666664},\n",
       " {'p_intra': 0.01491,\n",
       "  'p': 50,\n",
       "  'epsI': 0.25,\n",
       "  'epsT': 0,\n",
       "  'Rounds': False,\n",
       "  'maxInf': 248.98499999999999,\n",
       "  'Time1cl': 47.916666666666664,\n",
       "  'Time25': 56.916666666666664,\n",
       "  'Time50': 60.916666666666664,\n",
       "  'Time80': 65.91666666666667},\n",
       " {'p_intra': 0.01616,\n",
       "  'p': 100,\n",
       "  'epsI': 0.25,\n",
       "  'epsT': 0,\n",
       "  'Rounds': False,\n",
       "  'maxInf': 213.94,\n",
       "  'Time1cl': 53.916666666666664,\n",
       "  'Time25': 72.91666666666667,\n",
       "  'Time50': 77.91666666666667,\n",
       "  'Time80': 82.91666666666667},\n",
       " {'p_intra': 0.01663,\n",
       "  'p': 150,\n",
       "  'epsI': 0.25,\n",
       "  'epsT': 0,\n",
       "  'Rounds': False,\n",
       "  'maxInf': 187.37,\n",
       "  'Time1cl': 57.916666666666664,\n",
       "  'Time25': 90.91666666666667,\n",
       "  'Time50': 96.91666666666667,\n",
       "  'Time80': 101.91666666666667},\n",
       " {'p_intra': 0.01687,\n",
       "  'p': 200,\n",
       "  'epsI': 0.25,\n",
       "  'epsT': 0,\n",
       "  'Rounds': False,\n",
       "  'maxInf': 186.72,\n",
       "  'Time1cl': 65.91666666666667,\n",
       "  'Time25': 103.91666666666667,\n",
       "  'Time50': 110.91666666666667,\n",
       "  'Time80': 117.91666666666667}]"
      ]
     },
     "execution_count": 11,
     "metadata": {},
     "output_type": "execute_result"
    }
   ],
   "source": [
    "results = db.search(Res.Rounds == rounds)\n",
    "results"
   ]
  },
  {
   "cell_type": "code",
   "execution_count": 12,
   "metadata": {},
   "outputs": [
    {
     "data": {
      "text/plain": [
       "'\\nYourSelection=Query()\\ndb.remove(YourSelection.Rounds == 20)\\n'"
      ]
     },
     "execution_count": 12,
     "metadata": {},
     "output_type": "execute_result"
    }
   ],
   "source": [
    "#delete item\n",
    "'''\n",
    "YourSelection=Query()\n",
    "db.remove(YourSelection.Rounds == 20)\n",
    "'''"
   ]
  },
  {
   "cell_type": "code",
   "execution_count": 18,
   "metadata": {},
   "outputs": [],
   "source": [
    "if nb_nodes == 680:\n",
    "    len_p_list = 8\n",
    "else:\n",
    "    len_p_list = 6"
   ]
  },
  {
   "cell_type": "code",
   "execution_count": 19,
   "metadata": {},
   "outputs": [
    {
     "data": {
      "text/plain": [
       "array([  5,  20,  50, 100, 150, 200])"
      ]
     },
     "execution_count": 19,
     "metadata": {},
     "output_type": "execute_result"
    }
   ],
   "source": [
    "p_list = [r['p'] for r in results if r['epsI']==0.25]\n",
    "p_list = np.sort(p_list)\n",
    "p_list = p_list[:len_p_list]\n",
    "p_list"
   ]
  },
  {
   "cell_type": "markdown",
   "metadata": {},
   "source": [
    "$\\epsilon_I = 0.1$"
   ]
  },
  {
   "cell_type": "code",
   "execution_count": 14,
   "metadata": {},
   "outputs": [],
   "source": [
    "t1cl_1 = []\n",
    "for n in range(len_p_list):\n",
    "    t1cl_1.append([r['Time1cl'] for r in results if (r['epsI']==0.1 and r['p']==p_list[n])][0])\n",
    "\n",
    "\n",
    "t50_1 = []\n",
    "for n in range(len_p_list):\n",
    "    t50_1.append([r['Time50'] for r in results if (r['epsI']==0.1 and r['p']==p_list[n])][0])\n",
    "       \n",
    "\n",
    "t80_1 = []\n",
    "for n in range(len_p_list):\n",
    "    t80_1.append([r['Time80'] for r in results if (r['epsI']==0.1 and r['p']==p_list[n])][0])\n"
   ]
  },
  {
   "cell_type": "code",
   "execution_count": 15,
   "metadata": {},
   "outputs": [],
   "source": [
    "maxInf_1 = []\n",
    "for n in range(len_p_list):\n",
    "    maxInf_1.append([r['maxInf'] for r in results if (r['epsI']==0.1 and r['p']==p_list[n])][0])\n"
   ]
  },
  {
   "cell_type": "markdown",
   "metadata": {},
   "source": [
    "$\\epsilon_I = 0.25$"
   ]
  },
  {
   "cell_type": "code",
   "execution_count": 20,
   "metadata": {},
   "outputs": [],
   "source": [
    "t1cl_2 = []\n",
    "for n in range(len_p_list):\n",
    "    t1cl_2.append([r['Time1cl'] for r in results if (r['epsI']==0.25 and r['p']==p_list[n])][0])\n",
    "\n",
    "t50_2 = []\n",
    "for n in range(len_p_list):\n",
    "    t50_2.append([r['Time50'] for r in results if (r['epsI']==0.25 and r['p']==p_list[n])][0])\n",
    "\n",
    "t80_2 = []\n",
    "for n in range(len_p_list):\n",
    "    t80_2.append([r['Time80'] for r in results if (r['epsI']==0.25 and r['p']==p_list[n])][0])\n",
    "      "
   ]
  },
  {
   "cell_type": "code",
   "execution_count": 21,
   "metadata": {},
   "outputs": [],
   "source": [
    "maxInf_2 = []\n",
    "for n in range(len_p_list):\n",
    "    maxInf_2.append([r['maxInf'] for r in results if (r['epsI']==0.25 and r['p']==p_list[n])][0])        "
   ]
  },
  {
   "cell_type": "markdown",
   "metadata": {},
   "source": [
    "$\\epsilon_I = 0.4$"
   ]
  },
  {
   "cell_type": "code",
   "execution_count": 18,
   "metadata": {},
   "outputs": [],
   "source": [
    "t1cl_3 = []\n",
    "for n in range(len_p_list):\n",
    "    t1cl_3.append([r['Time1cl'] for r in results if (r['epsI']==0.4 and r['p']==p_list[n])][0])        \n",
    "\n",
    "t50_3 = []\n",
    "for n in range(len_p_list):\n",
    "    t50_3.append([r['Time50'] for r in results if (r['epsI']==0.4 and r['p']==p_list[n])][0])        \n",
    "\n",
    "t80_3 = []\n",
    "for n in range(len_p_list):\n",
    "    t80_3.append([r['Time80'] for r in results if (r['epsI']==0.4 and r['p']==p_list[n])][0])        "
   ]
  },
  {
   "cell_type": "code",
   "execution_count": 19,
   "metadata": {},
   "outputs": [],
   "source": [
    "maxInf_3 = []\n",
    "for n in range(len_p_list):\n",
    "    maxInf_3.append([r['maxInf'] for r in results if (r['epsI']==0.4 and r['p']==p_list[n])][0])        "
   ]
  },
  {
   "cell_type": "code",
   "execution_count": null,
   "metadata": {},
   "outputs": [],
   "source": []
  },
  {
   "cell_type": "code",
   "execution_count": 22,
   "metadata": {},
   "outputs": [],
   "source": [
    "# palette\n",
    "sim_inf_color = '#f18f01'\n",
    "k1cl_color = '#362035'#'#643c62'\n",
    "k50_color = '#856284'#'#976f95'\n",
    "k80_color = '#CCB2CE'#'#bea5bd'"
   ]
  },
  {
   "cell_type": "code",
   "execution_count": 23,
   "metadata": {},
   "outputs": [
    {
     "data": {
      "text/plain": [
       "\"\\nplt.plot(p_list,t1cl_1,'o-',label=r'Time to reach 25% knowledge',c=k1cl_color)\\nplt.plot(p_list,t50_1,'o-',label=r'Time to reach 50% knowledge',c=k50_color)\\nplt.plot(p_list,t80_1,'o-',label=r'Time to reach 80% knowledge',c=k80_color)\\nplt.plot(p_list,maxInf_1,'*-',c=sim_inf_color,markersize=10,label='simultaneous infected')\\nplt.legend(loc='center')\\nplt.savefig('Figures/Opt_p/legend_opt_p.pdf')\\nplt.show()\\n\""
      ]
     },
     "execution_count": 23,
     "metadata": {},
     "output_type": "execute_result"
    }
   ],
   "source": [
    "# legend\n",
    "'''\n",
    "plt.plot(p_list,t1cl_1,'o-',label=r'Time to reach 25% knowledge',c=k1cl_color)\n",
    "plt.plot(p_list,t50_1,'o-',label=r'Time to reach 50% knowledge',c=k50_color)\n",
    "plt.plot(p_list,t80_1,'o-',label=r'Time to reach 80% knowledge',c=k80_color)\n",
    "plt.plot(p_list,maxInf_1,'*-',c=sim_inf_color,markersize=10,label='simultaneous infected')\n",
    "plt.legend(loc='center')\n",
    "plt.savefig('Figures/Opt_p/legend_opt_p.pdf')\n",
    "plt.show()\n",
    "'''"
   ]
  },
  {
   "cell_type": "code",
   "execution_count": 24,
   "metadata": {},
   "outputs": [
    {
     "ename": "NameError",
     "evalue": "name 't80_1' is not defined",
     "output_type": "error",
     "traceback": [
      "\u001b[0;31m---------------------------------------------------------------------------\u001b[0m",
      "\u001b[0;31mNameError\u001b[0m                                 Traceback (most recent call last)",
      "\u001b[0;32m<ipython-input-24-71a0c85d18a0>\u001b[0m in \u001b[0;36m<module>\u001b[0;34m()\u001b[0m\n\u001b[1;32m      2\u001b[0m \u001b[0max1\u001b[0m \u001b[0;34m=\u001b[0m \u001b[0mplt\u001b[0m\u001b[0;34m.\u001b[0m\u001b[0msubplot\u001b[0m\u001b[0;34m(\u001b[0m\u001b[0;36m111\u001b[0m\u001b[0;34m)\u001b[0m\u001b[0;34m\u001b[0m\u001b[0m\n\u001b[1;32m      3\u001b[0m \u001b[0;34m\u001b[0m\u001b[0m\n\u001b[0;32m----> 4\u001b[0;31m \u001b[0max1\u001b[0m\u001b[0;34m.\u001b[0m\u001b[0mplot\u001b[0m\u001b[0;34m(\u001b[0m\u001b[0mp_list\u001b[0m\u001b[0;34m,\u001b[0m\u001b[0mt80_1\u001b[0m\u001b[0;34m,\u001b[0m\u001b[0;34m'o-'\u001b[0m\u001b[0;34m,\u001b[0m\u001b[0mlabel\u001b[0m\u001b[0;34m=\u001b[0m\u001b[0;34mr'80%'\u001b[0m\u001b[0;34m,\u001b[0m\u001b[0mc\u001b[0m\u001b[0;34m=\u001b[0m\u001b[0mk80_color\u001b[0m\u001b[0;34m)\u001b[0m\u001b[0;34m\u001b[0m\u001b[0m\n\u001b[0m\u001b[1;32m      5\u001b[0m \u001b[0max1\u001b[0m\u001b[0;34m.\u001b[0m\u001b[0mplot\u001b[0m\u001b[0;34m(\u001b[0m\u001b[0mp_list\u001b[0m\u001b[0;34m,\u001b[0m\u001b[0mt80_2\u001b[0m\u001b[0;34m,\u001b[0m\u001b[0;34m'o--'\u001b[0m\u001b[0;34m,\u001b[0m\u001b[0mc\u001b[0m\u001b[0;34m=\u001b[0m\u001b[0mk80_color\u001b[0m\u001b[0;34m)\u001b[0m\u001b[0;34m\u001b[0m\u001b[0m\n\u001b[1;32m      6\u001b[0m \u001b[0max1\u001b[0m\u001b[0;34m.\u001b[0m\u001b[0mplot\u001b[0m\u001b[0;34m(\u001b[0m\u001b[0mp_list\u001b[0m\u001b[0;34m,\u001b[0m\u001b[0mt80_3\u001b[0m\u001b[0;34m,\u001b[0m\u001b[0;34m'o:'\u001b[0m\u001b[0;34m,\u001b[0m\u001b[0mc\u001b[0m\u001b[0;34m=\u001b[0m\u001b[0mk80_color\u001b[0m\u001b[0;34m)\u001b[0m\u001b[0;34m\u001b[0m\u001b[0m\n",
      "\u001b[0;31mNameError\u001b[0m: name 't80_1' is not defined"
     ]
    },
    {
     "data": {
      "image/png": "[encoded data removed]",
      "text/plain": [
       "<Figure size 439.2x295.2 with 1 Axes>"
      ]
     },
     "metadata": {},
     "output_type": "display_data"
    }
   ],
   "source": [
    "fig = plt.figure(figsize=(6.1,4.1))\n",
    "ax1 = plt.subplot(111)\n",
    "\n",
    "ax1.plot(p_list,t80_1,'o-',label=r'80%',c=k80_color)\n",
    "ax1.plot(p_list,t80_2,'o--',c=k80_color)\n",
    "ax1.plot(p_list,t80_3,'o:',c=k80_color)\n",
    "\n",
    "ax1.plot(p_list,t50_1,'o-',label=r'50%',c=k50_color)\n",
    "ax1.plot(p_list,t50_2,'o--',c=k50_color)\n",
    "ax1.plot(p_list,t50_3,'o:',c=k50_color)\n",
    "\n",
    "#ax1.plot(p_list,t20_1,'o-',label='20%',c='blue')\n",
    "#ax1.plot(p_list,t20_2,'o--',c='blue')\n",
    "#ax1.plot(p_list,t20_3,'o:',c='blue')\n",
    "\n",
    "ax1.plot(p_list,t1cl_1,'o-',label=r'25%',c=k1cl_color)\n",
    "ax1.plot(p_list,t1cl_2,'o--',c=k1cl_color)\n",
    "ax1.plot(p_list,t1cl_3,'o:',c=k1cl_color)\n",
    "if nb_clusters == 5:\n",
    "    plt.gca().set_ylim(bottom = 50,top=130)\n",
    "elif nb_clusters == 10:\n",
    "    plt.gca().set_ylim(bottom = 20,top=130)\n",
    "elif nb_clusters == 20:\n",
    "    plt.gca().set_ylim(bottom = 15,top=130)\n",
    "ax1.yaxis.label.set_color('#643C62')\n",
    "ax1.tick_params(colors='#643C62', axis='y') \n",
    "\n",
    "\n",
    "\n",
    "\n",
    "ax2 = ax1.twinx()  # instantiate a second axes that shares the same x-axis\n",
    "\n",
    "ax2.plot(p_list,maxInf_1,'*-',c=sim_inf_color,markersize=10)\n",
    "ax2.plot(p_list,maxInf_2,'*--',c=sim_inf_color,markersize=10)\n",
    "ax2.plot(p_list,maxInf_3,'*:',c=sim_inf_color,markersize=10)\n",
    "if nb_clusters == 5:\n",
    "    plt.gca().set_ylim(bottom = 25,top=470)\n",
    "elif nb_clusters == 10:\n",
    "    plt.gca().set_ylim(bottom = 25,top=485)\n",
    "elif nb_clusters == 20:\n",
    "    plt.gca().set_ylim(bottom = 25,top=485)\n",
    "ax2.yaxis.label.set_color(sim_inf_color)\n",
    "ax2.tick_params(colors=sim_inf_color, which='both') \n",
    "\n",
    "ax1.set_xlabel('p')\n",
    "ax1.set_ylabel('Time of nodes\\' partial knowledge')\n",
    "ax2.set_ylabel('max nb. infected')\n",
    "\n",
    "# Shrink current ax1is by 20%\n",
    "box = ax1.get_position()\n",
    "ax1.set_position([box.x0, box.y0, box.width * 0.8, box.height])\n",
    "\n",
    "# Put a legend to the right of the current ax1is\n",
    "#ax1.legend(loc='upper center', bbox_to_anchor=(0.4, 1))\n",
    "#ax1.legend(loc='upper right')\n",
    "\n",
    "#ax2.legend(loc='upper center')#, bbox_to_anchor=(0, 0.5))\n",
    "\n",
    "#plt.tight_layout()\n",
    "\n",
    "if rounds == False:\n",
    "    plt.savefig('Figures/Opt_p/opt_p_bubbles_%dclusters.pdf'%(nb_clusters),bbox_inches='tight')\n",
    "else:\n",
    "    plt.savefig('Figures/Opt_p/opt_p_bubbles_%dclusters_rounds%ddays.pdf'%(nb_clusters,rounds),bbox_inches='tight')\n",
    "\n",
    "plt.show()\n"
   ]
  },
  {
   "cell_type": "code",
   "execution_count": 23,
   "metadata": {},
   "outputs": [
    {
     "data": {
      "text/plain": [
       "\"\\nfig = plt.figure(figsize=(6.1,4.1))\\nax1 = plt.subplot(111)\\nax1.plot(p_list,t1cl_1,'-',label=r'25%',c='darkgrey')\\nax1.plot(p_list,t1cl_2,'--',label=r'25%',c='darkgrey')\\nax1.plot(p_list,t1cl_3,':',label=r'25%',c='darkgrey')\\nax2 = ax1.twinx()  # instantiate a second axes that shares the same x-axis\\nax1.set_xlabel('p')\\nax1.set_ylabel('Time of nodes' partial knowledge')\\n# Shrink current ax1is by 20%\\nbox = ax1.get_position()\\nax1.set_position([box.x0, box.y0, box.width * 0.8, box.height])\\n# Put a legend to the right of the current ax1is\\nax1.legend(loc='upper center', bbox_to_anchor=(0.4, 1))\\n#plt.tight_layout()\\nplt.savefig('Figures/Opt_p/legend.pdf',bbox_inches='tight')\\nplt.show()\\n\""
      ]
     },
     "execution_count": 23,
     "metadata": {},
     "output_type": "execute_result"
    }
   ],
   "source": [
    "# legend:\n",
    "'''\n",
    "fig = plt.figure(figsize=(6.1,4.1))\n",
    "ax1 = plt.subplot(111)\n",
    "ax1.plot(p_list,t1cl_1,'-',label=r'25%',c='darkgrey')\n",
    "ax1.plot(p_list,t1cl_2,'--',label=r'25%',c='darkgrey')\n",
    "ax1.plot(p_list,t1cl_3,':',label=r'25%',c='darkgrey')\n",
    "ax2 = ax1.twinx()  # instantiate a second axes that shares the same x-axis\n",
    "ax1.set_xlabel('p')\n",
    "ax1.set_ylabel('Time of nodes\\' partial knowledge')\n",
    "# Shrink current ax1is by 20%\n",
    "box = ax1.get_position()\n",
    "ax1.set_position([box.x0, box.y0, box.width * 0.8, box.height])\n",
    "# Put a legend to the right of the current ax1is\n",
    "ax1.legend(loc='upper center', bbox_to_anchor=(0.4, 1))\n",
    "#plt.tight_layout()\n",
    "plt.savefig('Figures/Opt_p/legend.pdf',bbox_inches='tight')\n",
    "plt.show()\n",
    "'''"
   ]
  },
  {
   "cell_type": "markdown",
   "metadata": {},
   "source": [
    "# Quarantines"
   ]
  },
  {
   "cell_type": "code",
   "execution_count": 24,
   "metadata": {},
   "outputs": [],
   "source": [
    "import numpy as np\n",
    "import matplotlib.pyplot as plt\n",
    "from tinydb import TinyDB, Query\n"
   ]
  },
  {
   "cell_type": "code",
   "execution_count": 25,
   "metadata": {},
   "outputs": [],
   "source": [
    "plt.rcParams.update({'font.size': 16})"
   ]
  },
  {
   "cell_type": "code",
   "execution_count": 26,
   "metadata": {},
   "outputs": [],
   "source": [
    "nb_clusters = 20"
   ]
  },
  {
   "cell_type": "code",
   "execution_count": 27,
   "metadata": {},
   "outputs": [],
   "source": [
    "bubbles = False\n",
    "quarantines = 1 - bubbles"
   ]
  },
  {
   "cell_type": "code",
   "execution_count": 28,
   "metadata": {},
   "outputs": [],
   "source": [
    "if bubbles:\n",
    "    db = TinyDB(\"RESULTS/Aggregate_res_bubbles_%dclusters.json\"%(nb_clusters))\n",
    "elif quarantines:\n",
    "    db = TinyDB(\"RESULTS/Aggregate_res_quarantines_%dclusters.json\"%(nb_clusters))"
   ]
  },
  {
   "cell_type": "code",
   "execution_count": 29,
   "metadata": {},
   "outputs": [],
   "source": [
    "#db.all()"
   ]
  },
  {
   "cell_type": "code",
   "execution_count": 30,
   "metadata": {},
   "outputs": [
    {
     "data": {
      "text/plain": [
       "17"
      ]
     },
     "execution_count": 30,
     "metadata": {},
     "output_type": "execute_result"
    }
   ],
   "source": [
    "len(db)"
   ]
  },
  {
   "cell_type": "code",
   "execution_count": 31,
   "metadata": {},
   "outputs": [],
   "source": [
    "Res = Query()"
   ]
  },
  {
   "cell_type": "code",
   "execution_count": 32,
   "metadata": {},
   "outputs": [],
   "source": [
    "rounds = False"
   ]
  },
  {
   "cell_type": "code",
   "execution_count": 33,
   "metadata": {},
   "outputs": [],
   "source": [
    "results = db.search(Res.Rounds == rounds)\n",
    "#results"
   ]
  },
  {
   "cell_type": "code",
   "execution_count": 34,
   "metadata": {},
   "outputs": [],
   "source": [
    "#epsT_list = [r['epsT'] for r in results if r['epsI']==0.1]\n",
    "epsT_list = [0.01, 0.1, 0.4]"
   ]
  },
  {
   "cell_type": "code",
   "execution_count": 35,
   "metadata": {},
   "outputs": [],
   "source": [
    "t1cl_1 = []\n",
    "t1cl_1.append([r['Time1cl'] for r in results if (r['epsI']==0.1 and r['epsT']==0.01)][0])\n",
    "t1cl_1.append([r['Time1cl'] for r in results if (r['epsI']==0.1 and r['epsT']==0.1)][0])\n",
    "t1cl_1.append([r['Time1cl'] for r in results if (r['epsI']==0.1 and r['epsT']==0.4)][0]) \n",
    "\n",
    "t50_1 = []\n",
    "t50_1.append([r['Time50'] for r in results if (r['epsI']==0.1 and r['epsT']==0.01)][0])\n",
    "t50_1.append([r['Time50'] for r in results if (r['epsI']==0.1 and r['epsT']==0.1)][0])\n",
    "t50_1.append([r['Time50'] for r in results if (r['epsI']==0.1 and r['epsT']==0.4)][0])   \n",
    "\n",
    "t80_1 = []\n",
    "t80_1.append([r['Time80'] for r in results if (r['epsI']==0.1 and r['epsT']==0.01)][0])\n",
    "t80_1.append([r['Time80'] for r in results if (r['epsI']==0.1 and r['epsT']==0.1)][0])\n",
    "t80_1.append([r['Time80'] for r in results if (r['epsI']==0.1 and r['epsT']==0.4)][0])        "
   ]
  },
  {
   "cell_type": "code",
   "execution_count": 36,
   "metadata": {},
   "outputs": [],
   "source": [
    "maxInf_1 = []\n",
    "maxInf_1.append([r['maxInf'] for r in results if (r['epsI']==0.1 and r['epsT']==0.01)][0])\n",
    "maxInf_1.append([r['maxInf'] for r in results if (r['epsI']==0.1 and r['epsT']==0.1)][0])\n",
    "maxInf_1.append([r['maxInf'] for r in results if (r['epsI']==0.1 and r['epsT']==0.4)][0])        "
   ]
  },
  {
   "cell_type": "code",
   "execution_count": 37,
   "metadata": {},
   "outputs": [],
   "source": [
    "t1cl_2 = []\n",
    "t1cl_2.append([r['Time1cl'] for r in results if (r['epsI']==0.25 and r['epsT']==0.01)][0])\n",
    "t1cl_2.append([r['Time1cl'] for r in results if (r['epsI']==0.25 and r['epsT']==0.1)][0])\n",
    "t1cl_2.append([r['Time1cl'] for r in results if (r['epsI']==0.25 and r['epsT']==0.4)][0]) \n",
    "\n",
    "t50_2 = []\n",
    "t50_2.append([r['Time50'] for r in results if (r['epsI']==0.25 and r['epsT']==0.01)][0])\n",
    "t50_2.append([r['Time50'] for r in results if (r['epsI']==0.25 and r['epsT']==0.1)][0])\n",
    "t50_2.append([r['Time50'] for r in results if (r['epsI']==0.25 and r['epsT']==0.4)][0])   \n",
    "\n",
    "t80_2 = []\n",
    "t80_2.append([r['Time80'] for r in results if (r['epsI']==0.25 and r['epsT']==0.01)][0])\n",
    "t80_2.append([r['Time80'] for r in results if (r['epsI']==0.25 and r['epsT']==0.1)][0])\n",
    "t80_2.append([r['Time80'] for r in results if (r['epsI']==0.25 and r['epsT']==0.4)][0])        "
   ]
  },
  {
   "cell_type": "code",
   "execution_count": 38,
   "metadata": {},
   "outputs": [],
   "source": [
    "maxInf_2 = []\n",
    "maxInf_2.append([r['maxInf'] for r in results if (r['epsI']==0.25 and r['epsT']==0.01)][0])\n",
    "maxInf_2.append([r['maxInf'] for r in results if (r['epsI']==0.25 and r['epsT']==0.1)][0])\n",
    "maxInf_2.append([r['maxInf'] for r in results if (r['epsI']==0.25 and r['epsT']==0.4)][0])        "
   ]
  },
  {
   "cell_type": "code",
   "execution_count": 39,
   "metadata": {},
   "outputs": [],
   "source": [
    "t1cl_3 = []\n",
    "t1cl_3.append([r['Time1cl'] for r in results if (r['epsI']==0.4 and r['epsT']==0.01)][0])\n",
    "t1cl_3.append([r['Time1cl'] for r in results if (r['epsI']==0.4 and r['epsT']==0.1)][0])\n",
    "t1cl_3.append([r['Time1cl'] for r in results if (r['epsI']==0.4 and r['epsT']==0.4)][0]) \n",
    "\n",
    "t50_3 = []\n",
    "t50_3.append([r['Time50'] for r in results if (r['epsI']==0.4 and r['epsT']==0.01)][0])\n",
    "t50_3.append([r['Time50'] for r in results if (r['epsI']==0.4 and r['epsT']==0.1)][0])\n",
    "t50_3.append([r['Time50'] for r in results if (r['epsI']==0.4 and r['epsT']==0.4)][0])   \n",
    "\n",
    "t80_3 = []\n",
    "t80_3.append([r['Time80'] for r in results if (r['epsI']==0.4 and r['epsT']==0.01)][0])\n",
    "t80_3.append([r['Time80'] for r in results if (r['epsI']==0.4 and r['epsT']==0.1)][0])\n",
    "t80_3.append([r['Time80'] for r in results if (r['epsI']==0.4 and r['epsT']==0.4)][0])        "
   ]
  },
  {
   "cell_type": "code",
   "execution_count": 40,
   "metadata": {},
   "outputs": [],
   "source": [
    "maxInf_3 = []\n",
    "maxInf_3.append([r['maxInf'] for r in results if (r['epsI']==0.4 and r['epsT']==0.01)][0])\n",
    "maxInf_3.append([r['maxInf'] for r in results if (r['epsI']==0.4 and r['epsT']==0.1)][0])\n",
    "maxInf_3.append([r['maxInf'] for r in results if (r['epsI']==0.4 and r['epsT']==0.4)][0])        "
   ]
  },
  {
   "cell_type": "code",
   "execution_count": 41,
   "metadata": {},
   "outputs": [],
   "source": [
    "epsT_list = np.sort(epsT_list)"
   ]
  },
  {
   "cell_type": "code",
   "execution_count": 42,
   "metadata": {},
   "outputs": [],
   "source": [
    "# palette\n",
    "sim_inf_color = '#f18f01'\n",
    "k1cl_color = '#362035'#'#643c62'\n",
    "k50_color = '#856284'#'#976f95'\n",
    "k80_color = '#CCB2CE'#'#bea5bd'"
   ]
  },
  {
   "cell_type": "code",
   "execution_count": 43,
   "metadata": {},
   "outputs": [
    {
     "data": {
      "image/png": "[encoded data removed]",
      "text/plain": [
       "<Figure size 439.2x295.2 with 2 Axes>"
      ]
     },
     "metadata": {},
     "output_type": "display_data"
    }
   ],
   "source": [
    "fig = plt.figure(figsize=(6.1,4.1))\n",
    "ax1 = plt.subplot(111)\n",
    "\n",
    "ax1.plot(epsT_list,t80_1,'o-',label=r'80%',c=k80_color)\n",
    "ax1.plot(epsT_list,t80_2,'o--',c=k80_color)\n",
    "ax1.plot(epsT_list,t80_3,'o:',c=k80_color)\n",
    "\n",
    "ax1.plot(epsT_list,t50_1,'o-',label=r'50%',c=k50_color)\n",
    "ax1.plot(epsT_list,t50_2,'o--',c=k50_color)\n",
    "ax1.plot(epsT_list,t50_3,'o:',c=k50_color)\n",
    "\n",
    "#ax1.plot(epsT_list,t20_1,'o-',label='20%',c='blue')\n",
    "#ax1.plot(epsT_list,t20_2,'o--',c='blue')\n",
    "#ax1.plot(epsT_list,t20_3,'o:',c='blue')\n",
    "\n",
    "ax1.plot(epsT_list,t1cl_1,'o-',label=r'25%',c=k1cl_color)\n",
    "ax1.plot(epsT_list,t1cl_2,'o--',c=k1cl_color)\n",
    "ax1.plot(epsT_list,t1cl_3,'o:',c=k1cl_color)\n",
    "\n",
    "if nb_clusters == 5:\n",
    "    plt.gca().set_ylim(bottom = 50,top=130)\n",
    "elif nb_clusters == 10:\n",
    "    plt.gca().set_ylim(bottom = 20,top=130)\n",
    "elif nb_clusters == 20:\n",
    "    plt.gca().set_ylim(bottom = 15,top=130)\n",
    "ax1.yaxis.label.set_color('#643C62')\n",
    "ax1.tick_params(colors='#643C62', axis='y') \n",
    "\n",
    "\n",
    "ax2 = ax1.twinx()  # instantiate a second axes that shares the same x-axis\n",
    "\n",
    "ax2.plot(epsT_list,maxInf_1,'*-',c=sim_inf_color,markersize=10)\n",
    "ax2.plot(epsT_list,maxInf_2,'*--',c=sim_inf_color,markersize=10)\n",
    "ax2.plot(epsT_list,maxInf_3,'*:',c=sim_inf_color,markersize=10)\n",
    "if nb_clusters == 5:\n",
    "    plt.gca().set_ylim(bottom = 25,top=470)\n",
    "elif nb_clusters == 10:\n",
    "    plt.gca().set_ylim(bottom = 25,top=485)\n",
    "elif nb_clusters == 20:\n",
    "    plt.gca().set_ylim(bottom = 25,top=485)\n",
    "ax2.yaxis.label.set_color(sim_inf_color)\n",
    "ax2.tick_params(colors=sim_inf_color, which='both') \n",
    "\n",
    "ax1.set_xlabel(r'$\\varepsilon_T$')\n",
    "ax1.set_ylabel('Time of nodes\\' partial knowledge')\n",
    "ax2.set_ylabel('max nb. infected')\n",
    "\n",
    "# Shrink current ax1is by 20%\n",
    "box = ax1.get_position()\n",
    "ax1.set_position([box.x0, box.y0, box.width * 0.8, box.height])\n",
    "\n",
    "# Put a legend to the right of the current ax1is\n",
    "#ax1.legend(loc='lower right',ncol=3)\n",
    "#ax2.legend(loc='upper center')#, bbox_to_anchor=(0, 0.5))\n",
    "\n",
    "#plt.tight_layout()\n",
    "plt.savefig('Figures/Opt_p/opt_p_quarantines_%dclusters.pdf'%(nb_clusters),bbox_inches='tight')\n",
    "\n",
    "plt.show()\n"
   ]
  },
  {
   "cell_type": "code",
   "execution_count": 44,
   "metadata": {},
   "outputs": [
    {
     "data": {
      "text/plain": [
       "[{'p_intra': 0.00725,\n",
       "  'p': 5,\n",
       "  'epsI': 0.4,\n",
       "  'epsT': 0.1,\n",
       "  'Rounds': False,\n",
       "  'maxInf': 144.89000000000001,\n",
       "  'Time1cl': 65.91666666666667,\n",
       "  'Time25': 77.91666666666667,\n",
       "  'Time50': 96.91666666666667,\n",
       "  'Time80': 113.91666666666667},\n",
       " {'p_intra': 0.00725,\n",
       "  'p': 5,\n",
       "  'epsI': 0.1,\n",
       "  'epsT': 0.1,\n",
       "  'Rounds': False,\n",
       "  'maxInf': 220.27,\n",
       "  'Time1cl': 67.91666666666667,\n",
       "  'Time25': 79.91666666666667,\n",
       "  'Time50': 90.91666666666667,\n",
       "  'Time80': 101.91666666666667},\n",
       " {'p_intra': 0.00725,\n",
       "  'p': 5,\n",
       "  'epsI': 0.25,\n",
       "  'epsT': 0.1,\n",
       "  'Rounds': False,\n",
       "  'maxInf': 193.20999999999998,\n",
       "  'Time1cl': 68.91666666666667,\n",
       "  'Time25': 82.91666666666667,\n",
       "  'Time50': 97.91666666666667,\n",
       "  'Time80': 110.91666666666667},\n",
       " {'p_intra': 0.00725,\n",
       "  'p': 5,\n",
       "  'epsI': 0.25,\n",
       "  'epsT': 0.1,\n",
       "  'Rounds': False,\n",
       "  'maxInf': 193.20999999999998,\n",
       "  'Time1cl': 68.91666666666667,\n",
       "  'Time25': 82.91666666666667,\n",
       "  'Time50': 97.91666666666667,\n",
       "  'Time80': 110.91666666666667},\n",
       " {'p_intra': 0.00725,\n",
       "  'p': 5,\n",
       "  'epsI': 0.25,\n",
       "  'epsT': 0.1,\n",
       "  'Rounds': False,\n",
       "  'maxInf': 193.20999999999998,\n",
       "  'Time1cl': 68.91666666666667,\n",
       "  'Time25': 82.91666666666667,\n",
       "  'Time50': 97.91666666666667,\n",
       "  'Time80': 110.91666666666667}]"
      ]
     },
     "execution_count": 44,
     "metadata": {},
     "output_type": "execute_result"
    }
   ],
   "source": [
    "db.search(Res.epsT == 0.1)\n"
   ]
  },
  {
   "cell_type": "code",
   "execution_count": 45,
   "metadata": {},
   "outputs": [
    {
     "data": {
      "text/plain": [
       "(array([0.01, 0.1 , 0.4 ]),\n",
       " [88.91666666666667, 101.91666666666667, 97.91666666666667])"
      ]
     },
     "execution_count": 45,
     "metadata": {},
     "output_type": "execute_result"
    }
   ],
   "source": [
    "epsT_list,t80_1"
   ]
  },
  {
   "cell_type": "code",
   "execution_count": null,
   "metadata": {},
   "outputs": [],
   "source": []
  },
  {
   "cell_type": "code",
   "execution_count": null,
   "metadata": {},
   "outputs": [],
   "source": []
  },
  {
   "cell_type": "code",
   "execution_count": null,
   "metadata": {},
   "outputs": [],
   "source": []
  },
  {
   "cell_type": "code",
   "execution_count": null,
   "metadata": {},
   "outputs": [],
   "source": []
  },
  {
   "cell_type": "code",
   "execution_count": null,
   "metadata": {},
   "outputs": [],
   "source": []
  },
  {
   "cell_type": "code",
   "execution_count": null,
   "metadata": {},
   "outputs": [],
   "source": []
  }
 ],
 "metadata": {
  "kernelspec": {
   "display_name": "Python 3",
   "language": "python",
   "name": "python3"
  },
  "language_info": {
   "codemirror_mode": {
    "name": "ipython",
    "version": 3
   },
   "file_extension": ".py",
   "mimetype": "text/x-python",
   "name": "python",
   "nbconvert_exporter": "python",
   "pygments_lexer": "ipython3",
   "version": "3.7.0"
  }
 },
 "nbformat": 4,
 "nbformat_minor": 4
}

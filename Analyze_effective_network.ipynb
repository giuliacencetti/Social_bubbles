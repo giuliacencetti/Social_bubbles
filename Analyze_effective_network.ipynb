{
 "cells": [
  {
   "cell_type": "code",
   "execution_count": 1,
   "metadata": {
    "scrolled": true
   },
   "outputs": [],
   "source": [
    "import numpy as np\n",
    "from scipy.stats import sem\n",
    "import matplotlib.pyplot as plt\n",
    "import networkx as nx\n",
    "import statistics"
   ]
  },
  {
   "cell_type": "code",
   "execution_count": 2,
   "metadata": {
    "scrolled": true
   },
   "outputs": [],
   "source": [
    "plt.rcParams.update({'font.size': 15})"
   ]
  },
  {
   "cell_type": "markdown",
   "metadata": {},
   "source": [
    "## Parameters"
   ]
  },
  {
   "cell_type": "code",
   "execution_count": 3,
   "metadata": {
    "scrolled": true
   },
   "outputs": [],
   "source": [
    "eps_I_list = [0.1,0.25,0.4]\n",
    "eps_T_list = [0,0.01,0.1,0.4]"
   ]
  },
  {
   "cell_type": "code",
   "execution_count": 4,
   "metadata": {
    "scrolled": true
   },
   "outputs": [],
   "source": [
    "K = 10\n",
    "nb_ideas = 20\n",
    "k_threshold = np.full(nb_ideas,K)"
   ]
  },
  {
   "cell_type": "code",
   "execution_count": 5,
   "metadata": {
    "scrolled": true
   },
   "outputs": [],
   "source": [
    "PARAMETERS = {'temporal_gap' : 3600*2,              # Temporal gap between static networks (sec)\n",
    "              'nb_nodes' : 680,\n",
    "              'nb_clusters' : 10,                   # Nb of clusters in networks\n",
    "              'cluster_size' : 68,                  # Cluster size\n",
    "              'nb_ideas' : len(k_threshold),                # Nb of ideas\n",
    "              'nb_links' : 400,                     # nb of links in networks\n",
    "              'memory_contacts' : 7,                # Tracing memory (days)\n",
    "              'max_time_quar' : 10,                 # Quarantine duration (days)\n",
    "              'max_time_iso' : 25,                  # Isolation duration (days)\n",
    "              'eps_Is' : eps_I_list,                # Isolation effectivity\n",
    "              'eps_Ts' : eps_T_list,                # Tracing effectivity\n",
    "              'recov_time' : 25,                    # recovery time\n",
    "              'k_threshold' : k_threshold,          # Knowledge spreading parameter\n",
    "              'times' : 200,                      # Number of repetition of the simulation\n",
    "              'seed' : 11,                          # Random seed \n",
    "              'symptomatics' : 0.8,                 # Fraction of symptomatic individuals \n",
    "              'testing' : 0.0,                      # Fraction of asymptomatics who are detected via random testing\n",
    "              'net' : 'synth',\n",
    "              'store':{'to_store': True,            # Save the results?\n",
    "                       'path_to_store':'RESULTS/'}} # Target folder to save the results\n",
    "                       #'path_to_store':'lore_varie/RESULTS/'}} # Target folder to save the results"
   ]
  },
  {
   "cell_type": "code",
   "execution_count": 6,
   "metadata": {
    "scrolled": true
   },
   "outputs": [],
   "source": [
    "nb_clusters = PARAMETERS['nb_clusters']\n",
    "nb_nodes = PARAMETERS['nb_nodes']\n",
    "cluster_size = int(nb_nodes/nb_clusters)\n",
    "if PARAMETERS['cluster_size'] != cluster_size:\n",
    "    print('ERRORE!!!')\n",
    "L = PARAMETERS['nb_links']"
   ]
  },
  {
   "cell_type": "code",
   "execution_count": 7,
   "metadata": {
    "scrolled": true
   },
   "outputs": [],
   "source": [
    "rounds = True\n",
    "round_days = 10"
   ]
  },
  {
   "cell_type": "markdown",
   "metadata": {},
   "source": [
    "## Functions"
   ]
  },
  {
   "cell_type": "code",
   "execution_count": 8,
   "metadata": {
    "scrolled": true
   },
   "outputs": [],
   "source": [
    "def update_load_path(load_path,eps_I,eps_T):\n",
    "    \n",
    "    if all(el == PARAMETERS['k_threshold'][0] for el in PARAMETERS['k_threshold']): # True if all K are the same\n",
    "        name='/epsI_' + str(eps_I)+'_epsT_'+str(eps_T) + '_kThresh_'+str(PARAMETERS['k_threshold'][0])+'/'\n",
    "    else:\n",
    "         name='/epsI_' + str(eps_I)+'_epsT_'+str(eps_T) + '_kThresh_mix2/'\n",
    "    load_path += name\n",
    "\n",
    "    return load_path"
   ]
  },
  {
   "cell_type": "code",
   "execution_count": null,
   "metadata": {
    "scrolled": true
   },
   "outputs": [],
   "source": []
  },
  {
   "cell_type": "markdown",
   "metadata": {},
   "source": [
    "## Load eff edgelist"
   ]
  },
  {
   "cell_type": "code",
   "execution_count": 9,
   "metadata": {},
   "outputs": [],
   "source": [
    "#for p_intra in [0.00483,0.00806,0.00838,0.00849,0.00854,0.00858,0.0086,0.00863,0.00865]: #5 clusters\n",
    "#for p_intra in [0.00621,0.01485,0.01609,0.01655,0.01679,0.01694,0.01704,0.01717,0.01727]: #10 clusters\n",
    "#for p_intra in [0.00725,0.02562,0.02981,0.03154,0.03247,0.03306,0.03347,0.03399,0.03443]: #20 clusters"
   ]
  },
  {
   "cell_type": "code",
   "execution_count": 10,
   "metadata": {
    "scrolled": true
   },
   "outputs": [
    {
     "name": "stdout",
     "output_type": "stream",
     "text": [
      "p 199.36675835149904\n",
      "eps_I 0.1 eps_T 0\n"
     ]
    }
   ],
   "source": [
    "#p_intra = 0.00865 #0.00854 #0.00483 #5 clusters\n",
    "p_intra =  0.01679  #0.00621 #10 clusters\n",
    "p_inter = 2*L/(nb_clusters*(nb_clusters-1)*cluster_size**2) - (cluster_size-1)*p_intra/((nb_clusters-1)*cluster_size)\n",
    "print('p',p_intra/p_inter)\n",
    "graph_name = '%dnodes/%dclusters_%dnodes/temporal_net_p_intra%.2E_p_inter%.2E'%(nb_nodes,nb_clusters,cluster_size,p_intra,p_inter)\n",
    "if rounds:\n",
    "    graph_name += '_rounds%ddays'%round_days\n",
    "\n",
    "eps_I = eps_I_list[0]\n",
    "eps_T = eps_T_list[0]\n",
    "print('eps_I',eps_I,'eps_T',eps_T)"
   ]
  },
  {
   "cell_type": "code",
   "execution_count": 19,
   "metadata": {
    "scrolled": false
   },
   "outputs": [
    {
     "name": "stdout",
     "output_type": "stream",
     "text": [
      "RESULTS/680nodes/10clusters_68nodes/temporal_net_p_intra1.68E-02_p_inter8.42E-05_rounds10days/epsI_0.1_epsT_0_kThresh_10/\n",
      "0\n",
      "1\n",
      "2\n",
      "3\n",
      "4\n",
      "5\n",
      "6\n",
      "7\n",
      "8\n",
      "9\n",
      "10\n",
      "11\n",
      "12\n",
      "13\n",
      "14\n",
      "15\n",
      "16\n",
      "17\n",
      "18\n",
      "19\n",
      "20\n",
      "21\n",
      "22\n",
      "23\n",
      "24\n",
      "25\n",
      "26\n",
      "27\n",
      "28\n",
      "29\n",
      "30\n",
      "31\n",
      "32\n",
      "33\n",
      "34\n",
      "35\n",
      "36\n",
      "37\n",
      "38\n",
      "39\n",
      "40\n",
      "41\n",
      "42\n",
      "43\n",
      "44\n",
      "45\n",
      "46\n",
      "47\n",
      "48\n",
      "49\n",
      "50\n",
      "51\n",
      "52\n",
      "53\n",
      "54\n",
      "55\n",
      "56\n",
      "57\n",
      "58\n",
      "59\n",
      "60\n",
      "61\n",
      "62\n",
      "63\n",
      "64\n",
      "65\n",
      "66\n",
      "67\n",
      "68\n",
      "69\n",
      "70\n",
      "71\n",
      "72\n",
      "73\n",
      "74\n",
      "75\n",
      "76\n",
      "77\n",
      "78\n",
      "79\n",
      "80\n",
      "81\n",
      "82\n",
      "83\n",
      "84\n",
      "85\n",
      "86\n",
      "87\n",
      "88\n",
      "89\n",
      "90\n",
      "91\n",
      "92\n",
      "93\n",
      "94\n",
      "95\n",
      "96\n",
      "97\n",
      "98\n",
      "99\n",
      "100\n",
      "101\n",
      "102\n",
      "103\n",
      "104\n",
      "105\n",
      "106\n",
      "107\n",
      "108\n",
      "109\n",
      "110\n",
      "111\n",
      "112\n",
      "113\n",
      "114\n",
      "115\n",
      "116\n",
      "117\n",
      "118\n",
      "119\n",
      "120\n",
      "121\n",
      "122\n",
      "123\n",
      "124\n",
      "125\n",
      "126\n",
      "127\n",
      "128\n",
      "129\n",
      "130\n",
      "131\n",
      "132\n",
      "133\n",
      "134\n",
      "135\n",
      "136\n",
      "137\n",
      "138\n",
      "139\n",
      "140\n",
      "141\n",
      "142\n",
      "143\n",
      "144\n",
      "145\n",
      "146\n",
      "147\n",
      "148\n",
      "149\n",
      "150\n",
      "151\n",
      "152\n",
      "153\n",
      "154\n",
      "155\n",
      "156\n",
      "157\n",
      "158\n",
      "159\n",
      "160\n",
      "161\n",
      "162\n",
      "163\n",
      "164\n",
      "165\n",
      "166\n",
      "167\n",
      "168\n",
      "169\n",
      "170\n",
      "171\n",
      "172\n",
      "173\n",
      "174\n",
      "175\n",
      "176\n",
      "177\n",
      "178\n",
      "179\n",
      "180\n",
      "181\n",
      "182\n",
      "183\n",
      "184\n",
      "185\n",
      "186\n",
      "187\n",
      "188\n",
      "189\n",
      "190\n",
      "191\n",
      "192\n",
      "193\n",
      "194\n",
      "195\n",
      "196\n",
      "197\n",
      "198\n",
      "199\n"
     ]
    }
   ],
   "source": [
    "path = PARAMETERS['store']['path_to_store'] + graph_name\n",
    "path = update_load_path(path,eps_I,eps_T)\n",
    "print(path)\n",
    "for real in range(PARAMETERS['times']): # for each realization\n",
    "    print(real)\n",
    "    globals()['r%d_eff_edgelist'%(real)] = np.load(path + 'eff_edgelist/%d_eff_edgelist.npy'%(real),allow_pickle=True)\n",
    "\n"
   ]
  },
  {
   "cell_type": "code",
   "execution_count": 20,
   "metadata": {
    "scrolled": true
   },
   "outputs": [],
   "source": [
    "time_len = len(r0_eff_edgelist)"
   ]
  },
  {
   "cell_type": "markdown",
   "metadata": {},
   "source": [
    "Compute effective $p$:"
   ]
  },
  {
   "cell_type": "code",
   "execution_count": 21,
   "metadata": {
    "scrolled": true
   },
   "outputs": [
    {
     "name": "stdout",
     "output_type": "stream",
     "text": [
      "0\n",
      "1\n",
      "2\n",
      "3\n",
      "4\n",
      "5\n",
      "6\n",
      "7\n",
      "8\n",
      "9\n",
      "10\n",
      "11\n",
      "12\n",
      "13\n",
      "14\n",
      "15\n",
      "16\n",
      "17\n",
      "18\n",
      "19\n",
      "20\n",
      "21\n",
      "22\n",
      "23\n",
      "24\n",
      "25\n",
      "26\n",
      "27\n",
      "28\n",
      "29\n",
      "30\n",
      "31\n",
      "32\n",
      "33\n",
      "34\n",
      "35\n",
      "36\n",
      "37\n",
      "38\n",
      "39\n",
      "40\n",
      "41\n",
      "42\n",
      "43\n",
      "44\n",
      "45\n",
      "46\n",
      "47\n",
      "48\n",
      "49\n",
      "50\n",
      "51\n",
      "52\n",
      "53\n",
      "54\n",
      "55\n",
      "56\n",
      "57\n",
      "58\n",
      "59\n",
      "60\n",
      "61\n",
      "62\n",
      "63\n",
      "64\n",
      "65\n",
      "66\n",
      "67\n",
      "68\n",
      "69\n",
      "70\n",
      "71\n",
      "72\n",
      "73\n",
      "74\n",
      "75\n",
      "76\n",
      "77\n",
      "78\n",
      "79\n",
      "80\n",
      "81\n",
      "82\n",
      "83\n",
      "84\n",
      "85\n",
      "86\n",
      "87\n",
      "88\n",
      "89\n",
      "90\n",
      "91\n",
      "92\n",
      "93\n",
      "94\n",
      "95\n",
      "96\n",
      "97\n",
      "98\n",
      "99\n",
      "100\n",
      "101\n",
      "102\n",
      "103\n",
      "104\n",
      "105\n",
      "106\n",
      "107\n",
      "108\n",
      "109\n",
      "110\n",
      "111\n",
      "112\n",
      "113\n",
      "114\n",
      "115\n",
      "116\n",
      "117\n",
      "118\n",
      "119\n",
      "120\n",
      "121\n",
      "122\n",
      "123\n",
      "124\n",
      "125\n",
      "126\n",
      "127\n",
      "128\n",
      "129\n",
      "130\n",
      "131\n",
      "132\n",
      "133\n",
      "134\n",
      "135\n",
      "136\n",
      "137\n",
      "138\n",
      "139\n",
      "140\n",
      "141\n",
      "142\n",
      "143\n",
      "144\n",
      "145\n",
      "146\n",
      "147\n",
      "148\n",
      "149\n",
      "150\n",
      "151\n",
      "152\n",
      "153\n",
      "154\n",
      "155\n",
      "156\n",
      "157\n",
      "158\n",
      "159\n",
      "160\n",
      "161\n",
      "162\n",
      "163\n",
      "164\n",
      "165\n",
      "166\n",
      "167\n",
      "168\n",
      "169\n",
      "170\n",
      "171\n",
      "172\n",
      "173\n",
      "174\n",
      "175\n",
      "176\n",
      "177\n",
      "178\n",
      "179\n",
      "180\n",
      "181\n",
      "182\n",
      "183\n",
      "184\n",
      "185\n",
      "186\n",
      "187\n",
      "188\n",
      "189\n",
      "190\n",
      "191\n",
      "192\n",
      "193\n",
      "194\n",
      "195\n",
      "196\n",
      "197\n",
      "198\n",
      "199\n"
     ]
    }
   ],
   "source": [
    "for real in range(PARAMETERS['times']): # for each realization\n",
    "    print(real)\n",
    "    intra_links = []\n",
    "    inter_links = []\n",
    "    for t in range(time_len):\n",
    "        #print(t)\n",
    "        G = nx.Graph()\n",
    "        G.add_edges_from(globals()['r%d_eff_edgelist'%(real)][t])\n",
    "        intra_cluster_links = []\n",
    "        extra_cluster_links = []\n",
    "        for n in range(nb_clusters):\n",
    "            intra_cluster_n = 0\n",
    "            extra_cluster_n = 0\n",
    "            for node in range(n*cluster_size, (n+1)*cluster_size):\n",
    "                if node in G:\n",
    "                    neighs = G.neighbors(node)\n",
    "                    for neigh_node in neighs:\n",
    "                        if n*cluster_size <= neigh_node < (n+1)*cluster_size:\n",
    "                            intra_cluster_n += 1\n",
    "                        else:\n",
    "                            extra_cluster_n += 1\n",
    "            #print('intra_cluster_n',intra_cluster_n)\n",
    "            intra_cluster_n /= 2\n",
    "            extra_cluster_n /= 2\n",
    "\n",
    "            intra_cluster_links.append(intra_cluster_n)\n",
    "            extra_cluster_links.append(extra_cluster_n)\n",
    "            #print('len intra_cluster_links',len(intra_cluster_links))\n",
    "            #n += 1\n",
    "\n",
    "        intra_links.append(np.mean(intra_cluster_links)) # media sui diversi cluster\n",
    "        inter_links.append(np.mean(extra_cluster_links))\n",
    "        \n",
    "    if real == 0:\n",
    "        intra_links_all = np.array(intra_links.copy())\n",
    "        inter_links_all = np.array(inter_links.copy())\n",
    "    else:\n",
    "        intra_links_all = np.vstack((intra_links_all, np.array(intra_links.copy()))) # put together in a matrix\n",
    "        inter_links_all = np.vstack((inter_links_all, np.array(inter_links.copy()))) \n"
   ]
  },
  {
   "cell_type": "code",
   "execution_count": 22,
   "metadata": {},
   "outputs": [
    {
     "data": {
      "text/plain": [
       "68"
      ]
     },
     "execution_count": 22,
     "metadata": {},
     "output_type": "execute_result"
    }
   ],
   "source": [
    "cluster_size"
   ]
  },
  {
   "cell_type": "code",
   "execution_count": 23,
   "metadata": {
    "scrolled": true
   },
   "outputs": [],
   "source": [
    "# compute average on realizations:\n",
    "intra_links_all_mean = np.mean(intra_links_all,axis=0)\n",
    "#intra_links_all_sem = sem(intra_links_all,axis=0)\n",
    "\n",
    "inter_links_all_mean = np.mean(inter_links_all,axis=0)\n",
    "#inter_links_all_sem = sem(inter_links_all,axis=0)"
   ]
  },
  {
   "cell_type": "code",
   "execution_count": null,
   "metadata": {},
   "outputs": [],
   "source": []
  },
  {
   "cell_type": "code",
   "execution_count": 24,
   "metadata": {
    "scrolled": true
   },
   "outputs": [
    {
     "name": "stdout",
     "output_type": "stream",
     "text": [
      "estimated p_intra [0.01562774 0.01720808 0.01738367 ... 0.01733055 0.01732968 0.01706958]\n"
     ]
    }
   ],
   "source": [
    "estimated_p_intra = np.array(intra_links_all_mean)/(cluster_size*(cluster_size-1)/2)\n",
    "print('estimated p_intra',estimated_p_intra)"
   ]
  },
  {
   "cell_type": "code",
   "execution_count": 25,
   "metadata": {
    "scrolled": true
   },
   "outputs": [
    {
     "name": "stdout",
     "output_type": "stream",
     "text": [
      "estimated p_inter [4.32525952e-05 1.20146098e-04 1.24951942e-04 ... 1.39177240e-04\n",
      " 7.19915417e-05 6.24038831e-05]\n"
     ]
    }
   ],
   "source": [
    "nb_nodes = cluster_size*PARAMETERS['nb_clusters']\n",
    "estimated_p_inter = np.array(inter_links_all_mean)/(cluster_size*(nb_nodes - cluster_size)/2)\n",
    "print('estimated p_inter',estimated_p_inter)"
   ]
  },
  {
   "cell_type": "code",
   "execution_count": 26,
   "metadata": {
    "scrolled": true
   },
   "outputs": [],
   "source": [
    "est_p = estimated_p_intra/estimated_p_inter"
   ]
  },
  {
   "cell_type": "markdown",
   "metadata": {},
   "source": [
    "Il problema degli infiniti si risolve così:"
   ]
  },
  {
   "cell_type": "markdown",
   "metadata": {},
   "source": [
    "1) Calcolando la mediana sui tempi al posto della media"
   ]
  },
  {
   "cell_type": "code",
   "execution_count": 27,
   "metadata": {},
   "outputs": [
    {
     "data": {
      "text/plain": [
       "200.25"
      ]
     },
     "execution_count": 27,
     "metadata": {},
     "output_type": "execute_result"
    }
   ],
   "source": [
    "round(statistics.median(est_p),2)"
   ]
  },
  {
   "cell_type": "markdown",
   "metadata": {},
   "source": [
    "2) calcolando la media dell'inverso"
   ]
  },
  {
   "cell_type": "code",
   "execution_count": 28,
   "metadata": {},
   "outputs": [
    {
     "data": {
      "text/plain": [
       "197.31"
      ]
     },
     "execution_count": 28,
     "metadata": {},
     "output_type": "execute_result"
    }
   ],
   "source": [
    "est_p_inv = estimated_p_inter/estimated_p_intra\n",
    "round(1/np.mean(est_p_inv),2)"
   ]
  },
  {
   "cell_type": "code",
   "execution_count": 29,
   "metadata": {},
   "outputs": [],
   "source": [
    "#####################"
   ]
  },
  {
   "cell_type": "markdown",
   "metadata": {},
   "source": [
    "Compute effective nb of links:"
   ]
  },
  {
   "cell_type": "code",
   "execution_count": 30,
   "metadata": {
    "scrolled": true
   },
   "outputs": [],
   "source": [
    "for real in range(PARAMETERS['times']): # for each realization\n",
    "    #print(real)\n",
    "    nb_edges = []\n",
    "    for edgelist in globals()['r%d_eff_edgelist'%(real)]:\n",
    "        nb_edges.append(len(edgelist))\n",
    "        \n",
    "    if real == 0:\n",
    "        nb_edges_all = np.array(nb_edges.copy())\n",
    "    else:\n",
    "        nb_edges_all = np.vstack((nb_edges_all, np.array(nb_edges.copy()))) # put together in a matrix\n"
   ]
  },
  {
   "cell_type": "code",
   "execution_count": 31,
   "metadata": {},
   "outputs": [],
   "source": [
    "# compute average\n",
    "nb_edges_all_mean = np.mean(nb_edges_all,axis=0)\n"
   ]
  },
  {
   "cell_type": "markdown",
   "metadata": {},
   "source": [
    "## Save data for plots"
   ]
  },
  {
   "cell_type": "code",
   "execution_count": 32,
   "metadata": {},
   "outputs": [],
   "source": [
    "# solo la prima volta\n",
    "\n",
    "filename = 'Figures_data/%dnodes/%dclusters_%dnodes/eff_p_p_intra_%.2E_epsI_%.2f_epsT_%.3f_kThresh_%.3f'%(nb_nodes,nb_clusters,cluster_size,p_intra,eps_I,eps_T,K)\n",
    "if rounds:\n",
    "    filename += '_rounds%ddays'%round_days\n",
    "filename += '.npy'\n",
    "np.save(filename,est_p)\n"
   ]
  },
  {
   "cell_type": "code",
   "execution_count": 33,
   "metadata": {},
   "outputs": [],
   "source": [
    "# solo la prima volta\n",
    "\n",
    "filename = 'Figures_data/%dnodes/%dclusters_%dnodes/eff_p_intra_p_intra_%.2E_epsI_%.2f_epsT_%.3f_kThresh_%.3f'%(nb_nodes,nb_clusters,cluster_size,p_intra,eps_I,eps_T,K)\n",
    "if rounds:\n",
    "    filename += '_rounds%ddays'%round_days\n",
    "filename += '.npy'\n",
    "np.save(filename,estimated_p_intra)\n"
   ]
  },
  {
   "cell_type": "code",
   "execution_count": 34,
   "metadata": {},
   "outputs": [],
   "source": [
    "# solo la prima volta\n",
    "\n",
    "filename = 'Figures_data/%dnodes/%dclusters_%dnodes/eff_p_inter_p_intra_%.2E_epsI_%.2f_epsT_%.3f_kThresh_%.3f'%(nb_nodes,nb_clusters,cluster_size,p_intra,eps_I,eps_T,K)\n",
    "if rounds:\n",
    "    filename += '_rounds%ddays'%round_days\n",
    "filename += '.npy'\n",
    "np.save(filename,estimated_p_inter)\n"
   ]
  },
  {
   "cell_type": "code",
   "execution_count": 35,
   "metadata": {},
   "outputs": [],
   "source": [
    "# solo la prima volta\n",
    "\n",
    "filename = 'Figures_data/%dnodes/%dclusters_%dnodes/eff_links_p_intra_%.2E_epsI_%.2f_epsT_%.3f_kThresh_%.3f'%(nb_nodes,nb_clusters,cluster_size,p_intra,eps_I,eps_T,K)\n",
    "if rounds:\n",
    "    filename += '_rounds%ddays'%round_days\n",
    "filename += '.npy'\n",
    "np.save(filename,nb_edges_all_mean)\n"
   ]
  },
  {
   "cell_type": "code",
   "execution_count": null,
   "metadata": {},
   "outputs": [],
   "source": []
  },
  {
   "cell_type": "markdown",
   "metadata": {},
   "source": [
    "## Load data for plots"
   ]
  },
  {
   "cell_type": "code",
   "execution_count": 36,
   "metadata": {},
   "outputs": [],
   "source": [
    "filename = 'Figures_data/%dnodes/%dclusters_%dnodes/eff_p_p_intra_%.2E_epsI_%.2f_epsT_%.3f_kThresh_%.3f'%(nb_nodes,nb_clusters,cluster_size,p_intra,eps_I,eps_T,K)\n",
    "if rounds:\n",
    "    filename += '_rounds%ddays'%round_days\n",
    "filename += '.npy'\n",
    "\n",
    "est_p = np.load(filename,allow_pickle=True)"
   ]
  },
  {
   "cell_type": "code",
   "execution_count": 37,
   "metadata": {},
   "outputs": [],
   "source": [
    "filename = 'Figures_data/%dnodes/%dclusters_%dnodes/eff_p_intra_p_intra_%.2E_epsI_%.2f_epsT_%.3f_kThresh_%.3f'%(nb_nodes,nb_clusters,cluster_size,p_intra,eps_I,eps_T,K)\n",
    "if rounds:\n",
    "    filename += '_rounds%ddays'%round_days\n",
    "filename += '.npy'\n",
    "\n",
    "estimated_p_intra = np.load(filename,allow_pickle=True)"
   ]
  },
  {
   "cell_type": "code",
   "execution_count": 38,
   "metadata": {},
   "outputs": [],
   "source": [
    "filename = 'Figures_data/%dnodes/%dclusters_%dnodes/eff_p_inter_p_intra_%.2E_epsI_%.2f_epsT_%.3f_kThresh_%.3f'%(nb_nodes,nb_clusters,cluster_size,p_intra,eps_I,eps_T,K)\n",
    "if rounds:\n",
    "    filename += '_rounds%ddays'%round_days\n",
    "filename += '.npy'\n",
    "\n",
    "estimated_p_inter = np.load(filename,allow_pickle=True)"
   ]
  },
  {
   "cell_type": "code",
   "execution_count": 39,
   "metadata": {},
   "outputs": [],
   "source": [
    "filename = 'Figures_data/%dnodes/%dclusters_%dnodes/eff_links_p_intra_%.2E_epsI_%.2f_epsT_%.3f_kThresh_%.3f'%(nb_nodes,nb_clusters,cluster_size,p_intra,eps_I,eps_T,K)\n",
    "if rounds:\n",
    "    filename += '_rounds%ddays'%round_days\n",
    "filename += '.npy'\n",
    "\n",
    "nb_edges_all_mean = np.load(filename,allow_pickle=True)"
   ]
  },
  {
   "cell_type": "markdown",
   "metadata": {},
   "source": [
    "## Plot"
   ]
  },
  {
   "cell_type": "code",
   "execution_count": 40,
   "metadata": {},
   "outputs": [],
   "source": [
    "col1 = '#8f8a93'\n",
    "col2 = '#fe019a'"
   ]
  },
  {
   "cell_type": "code",
   "execution_count": 41,
   "metadata": {},
   "outputs": [
    {
     "data": {
      "image/png": "[encoded data removed]",
      "text/plain": [
       "<Figure size 432x288 with 1 Axes>"
      ]
     },
     "metadata": {},
     "output_type": "display_data"
    }
   ],
   "source": [
    "days = np.array(range(time_len))*PARAMETERS['temporal_gap']/3600/24\n",
    "plt.axhline(y=p_intra/p_inter,c=col2,linewidth=3,linestyle='-')\n",
    "plt.plot(days,est_p,'o',markersize=3,c=col1)\n",
    "\n",
    "plt.xlabel('Time [days]')\n",
    "plt.ylabel('Effective $p$')\n",
    "figname = '../../figs/%dnodes/Eff_links/%dclusters_%dnodes/eff_p_p_intra_%.2E_epsI_%.2f_epsT_%.3f_kThresh_%.3f'%(nb_nodes,nb_clusters,cluster_size,p_intra,eps_I,eps_T,K)\n",
    "if rounds:\n",
    "    figname += '_rounds%ddays'%round_days\n",
    "figname += '.pdf'\n",
    "plt.tight_layout()\n",
    "plt.savefig(figname)\n",
    "plt.show()"
   ]
  },
  {
   "cell_type": "code",
   "execution_count": 42,
   "metadata": {
    "scrolled": true
   },
   "outputs": [
    {
     "data": {
      "image/png": "[encoded data removed]",
      "text/plain": [
       "<Figure size 432x288 with 1 Axes>"
      ]
     },
     "metadata": {},
     "output_type": "display_data"
    }
   ],
   "source": [
    "days = np.array(range(time_len))*PARAMETERS['temporal_gap']/3600/24\n",
    "\n",
    "plt.axhline(y=400,c=col2,linewidth=3)\n",
    "plt.plot(days,nb_edges_all_mean,'o',markersize=3,c=col1)\n",
    "\n",
    "plt.xlabel('Time [days]')\n",
    "plt.ylabel('Effective nb. links')\n",
    "figname = '../../figs/%dnodes/Eff_links/%dclusters_%dnodes/eff_links_p_intra_%.2E_epsI_%.2f_epsT_%.3f_kThresh_%.3f'%(nb_nodes,nb_clusters,cluster_size,p_intra,eps_I,eps_T,K)\n",
    "if rounds:\n",
    "    figname += '_rounds%ddays'%round_days\n",
    "figname += '.pdf'\n",
    "plt.tight_layout()\n",
    "plt.savefig(figname)\n",
    "plt.show()"
   ]
  },
  {
   "cell_type": "code",
   "execution_count": null,
   "metadata": {
    "scrolled": true
   },
   "outputs": [],
   "source": [
    "eps_I"
   ]
  },
  {
   "cell_type": "code",
   "execution_count": null,
   "metadata": {},
   "outputs": [],
   "source": [
    "p_intra/p_inter"
   ]
  },
  {
   "cell_type": "code",
   "execution_count": null,
   "metadata": {},
   "outputs": [],
   "source": []
  },
  {
   "cell_type": "code",
   "execution_count": null,
   "metadata": {},
   "outputs": [],
   "source": []
  }
 ],
 "metadata": {
  "kernelspec": {
   "display_name": "Python 3",
   "language": "python",
   "name": "python3"
  },
  "language_info": {
   "codemirror_mode": {
    "name": "ipython",
    "version": 3
   },
   "file_extension": ".py",
   "mimetype": "text/x-python",
   "name": "python",
   "nbconvert_exporter": "python",
   "pygments_lexer": "ipython3",
   "version": "3.7.0"
  }
 },
 "nbformat": 4,
 "nbformat_minor": 4
}

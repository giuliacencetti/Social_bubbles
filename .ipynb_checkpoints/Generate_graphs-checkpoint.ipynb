{
 "cells": [
  {
   "cell_type": "markdown",
   "metadata": {},
   "source": [
    "# Generate a sequence of clustered networks"
   ]
  },
  {
   "cell_type": "code",
   "execution_count": 1,
   "metadata": {},
   "outputs": [],
   "source": [
    "import networkx as nx\n",
    "from utils import temporal_clustered_network_generation, temporal_graph_save, temporal_graph_load\n",
    "import numpy as np"
   ]
  },
  {
   "cell_type": "markdown",
   "metadata": {},
   "source": [
    "## Generate temporal networks with specific value of $p$ without temporal cluster"
   ]
  },
  {
   "cell_type": "markdown",
   "metadata": {},
   "source": [
    "Set the parameters"
   ]
  },
  {
   "cell_type": "code",
   "execution_count": 4,
   "metadata": {},
   "outputs": [],
   "source": [
    "nb_nodes = 680\n",
    "L = 400 # average nb of links\n",
    "nb_clusters = 10\n",
    "cluster_size = int(nb_nodes/nb_clusters) #nb nodes in each cluster\n",
    "n_time_steps = 2000 # time length"
   ]
  },
  {
   "cell_type": "markdown",
   "metadata": {},
   "source": [
    "p_list is the list of desired values of modularity p (one temporal network for each value of p in this list will be generated):"
   ]
  },
  {
   "cell_type": "code",
   "execution_count": 5,
   "metadata": {},
   "outputs": [],
   "source": [
    "p_list = [5,10,20]"
   ]
  },
  {
   "cell_type": "markdown",
   "metadata": {},
   "source": [
    "Given the above set of parameters I can compute the values of $p_{intra}$ (one for each value of $p$):"
   ]
  },
  {
   "cell_type": "code",
   "execution_count": 6,
   "metadata": {},
   "outputs": [
    {
     "name": "stdout",
     "output_type": "stream",
     "text": [
      "6.22e-03\n",
      "9.20e-03\n",
      "1.21e-02\n"
     ]
    }
   ],
   "source": [
    "p_intra_list = []\n",
    "for p in p_list:\n",
    "    p_intra = 2*L*p/(nb_clusters*cluster_size*((nb_clusters-1)*cluster_size + p*(cluster_size-1)))\n",
    "    print('{:.2e}'.format(p_intra))\n",
    "    p_intra_list.append(p_intra)"
   ]
  },
  {
   "cell_type": "markdown",
   "metadata": {},
   "source": [
    "I associate a value of $p_{inter}$ to each value of $p_{intra}$, I assign a name to the temporal graph and I generate and save all the temporal layers:"
   ]
  },
  {
   "cell_type": "code",
   "execution_count": 6,
   "metadata": {},
   "outputs": [
    {
     "name": "stdout",
     "output_type": "stream",
     "text": [
      "0.016872606198995516\n",
      "510nodes/10clusters_51nodes/temporal_net_p_intra1.69E-02_p_inter8.44E-05\n"
     ]
    },
    {
     "data": {
      "application/vnd.jupyter.widget-view+json": {
       "model_id": "59e544949f5d49658e56e8dbf8fa82ce",
       "version_major": 2,
       "version_minor": 0
      },
      "text/plain": [
       "HBox(children=(FloatProgress(value=0.0, max=2000.0), HTML(value='')))"
      ]
     },
     "metadata": {},
     "output_type": "display_data"
    },
    {
     "name": "stdout",
     "output_type": "stream",
     "text": [
      "\n"
     ]
    }
   ],
   "source": [
    "for p_intra in p_intra_list:\n",
    "    print(p_intra)\n",
    "    p_inter = 2*L/(nb_clusters*(nb_clusters-1)*cluster_size**2) - (cluster_size-1)*p_intra/((nb_clusters-1)*cluster_size)\n",
    "\n",
    "    # set the name: the graphs are saved in `Graphs/name/`\n",
    "    name = '%dnodes/%dclusters_%dnodes/temporal_net_p_intra%.2E_p_inter%.2E'%(nb_nodes,nb_clusters,cluster_size,p_intra,p_inter)\n",
    "    print(name)\n",
    "    # generate the sequence\n",
    "    graphs = temporal_clustered_network_generation(n_time_steps, nb_clusters, cluster_size, p_intra, p_inter) \n",
    "    # save the sequence\n",
    "    temporal_graph_save(graphs, name)"
   ]
  },
  {
   "cell_type": "code",
   "execution_count": null,
   "metadata": {},
   "outputs": [],
   "source": []
  },
  {
   "cell_type": "markdown",
   "metadata": {},
   "source": [
    "## Generate temporal networks with specific value of $p$ with temporal cluster"
   ]
  },
  {
   "cell_type": "markdown",
   "metadata": {},
   "source": [
    "The temporal cluster generation procedure depends on the nb of clusters so here are three different cases: 5, 10, and 20 clusters"
   ]
  },
  {
   "cell_type": "markdown",
   "metadata": {},
   "source": [
    "### 5 clusters"
   ]
  },
  {
   "cell_type": "code",
   "execution_count": 2,
   "metadata": {},
   "outputs": [],
   "source": [
    "nb_nodes = 680\n",
    "L = 400 # average nb of links\n",
    "nb_clusters = 5\n",
    "cluster_size = int(nb_nodes/nb_clusters)\n",
    "n_time_steps = 1340 # time length"
   ]
  },
  {
   "cell_type": "markdown",
   "metadata": {},
   "source": [
    "Set $p_{intra}$ and compute $p_{inter}$:"
   ]
  },
  {
   "cell_type": "code",
   "execution_count": 3,
   "metadata": {},
   "outputs": [],
   "source": [
    "p_intra = 0.00621\n",
    "p_inter = 2*L/(nb_clusters*(nb_clusters-1)*cluster_size**2) - (cluster_size-1)*p_intra/((nb_clusters-1)*cluster_size)"
   ]
  },
  {
   "cell_type": "markdown",
   "metadata": {},
   "source": [
    "Set the matches between the 5 clusters (bubbles) in the temporal cluster tournaments"
   ]
  },
  {
   "cell_type": "code",
   "execution_count": 4,
   "metadata": {},
   "outputs": [],
   "source": [
    "matches = [[(1,3), (2,4)], [(1,0), (2,3)], [(4,0), (2,1)], [(3,4), (2,0)], [(1,4), (3,0)]]\n",
    "P = []\n",
    "for n in range(len(matches)):\n",
    "    x = p_inter*5\n",
    "    Q = np.full((nb_clusters,nb_clusters),0.00000)\n",
    "    for match in matches[n]:\n",
    "        Q[match] = x\n",
    "        Q[match[::-1]] = x\n",
    "    np.fill_diagonal(Q, p_intra)\n",
    "    P.append(Q) # P è una lista di matrici Q"
   ]
  },
  {
   "cell_type": "markdown",
   "metadata": {},
   "source": [
    "Set the length in time of each tournament"
   ]
  },
  {
   "cell_type": "code",
   "execution_count": 6,
   "metadata": {},
   "outputs": [],
   "source": [
    "round_days = 5\n",
    "match_len = 12*round_days # length of each match: nb_days days with 2h interval"
   ]
  },
  {
   "cell_type": "markdown",
   "metadata": {},
   "source": [
    "Generate the networks"
   ]
  },
  {
   "cell_type": "code",
   "execution_count": 7,
   "metadata": {},
   "outputs": [],
   "source": [
    "sizes = [cluster_size for n in range(nb_clusters)]"
   ]
  },
  {
   "cell_type": "code",
   "execution_count": 9,
   "metadata": {},
   "outputs": [],
   "source": [
    "graphs = []\n",
    "n = 0\n",
    "while len(graphs) < n_time_steps:\n",
    "    for time_step in range(match_len):\n",
    "        G = nx.stochastic_block_model(sizes, P[n])\n",
    "        graphs.append(G)\n",
    "    n += 1\n",
    "    if n == len(P):\n",
    "        n = 0\n",
    "    \n"
   ]
  },
  {
   "cell_type": "code",
   "execution_count": 9,
   "metadata": {},
   "outputs": [
    {
     "data": {
      "text/plain": [
       "1380"
      ]
     },
     "execution_count": 9,
     "metadata": {},
     "output_type": "execute_result"
    }
   ],
   "source": [
    "len(graphs) "
   ]
  },
  {
   "cell_type": "markdown",
   "metadata": {},
   "source": [
    "How many days?"
   ]
  },
  {
   "cell_type": "code",
   "execution_count": 10,
   "metadata": {},
   "outputs": [
    {
     "data": {
      "text/plain": [
       "115.0"
      ]
     },
     "execution_count": 10,
     "metadata": {},
     "output_type": "execute_result"
    }
   ],
   "source": [
    "len(graphs)/12"
   ]
  },
  {
   "cell_type": "markdown",
   "metadata": {},
   "source": [
    "Save graph"
   ]
  },
  {
   "cell_type": "code",
   "execution_count": 11,
   "metadata": {},
   "outputs": [
    {
     "name": "stdout",
     "output_type": "stream",
     "text": [
      "5clusters_136nodes/temporal_net_p_intra6.21E-03_p_inter6.22E-04_rounds5days\n"
     ]
    }
   ],
   "source": [
    "name = '%dnodes/%dclusters_%dnodes/temporal_net_p_intra%.2E_p_inter%.2E_rounds%ddays'%(nb_nodes,nb_clusters,cluster_size,p_intra,p_inter,round_days)\n",
    "temporal_graph_save(graphs, name)"
   ]
  },
  {
   "cell_type": "markdown",
   "metadata": {},
   "source": [
    "### 10 clusters"
   ]
  },
  {
   "cell_type": "code",
   "execution_count": 10,
   "metadata": {},
   "outputs": [
    {
     "data": {
      "text/plain": [
       "[0.0062050136510300325,\n",
       " 0.012029351617947793,\n",
       " 0.014809549197322433,\n",
       " 0.016045698148326435,\n",
       " 0.01650491846570278,\n",
       " 0.016744528725239027]"
      ]
     },
     "execution_count": 10,
     "metadata": {},
     "output_type": "execute_result"
    }
   ],
   "source": [
    "nb_nodes = 680\n",
    "L = 400 # average nb of links\n",
    "nb_clusters = 10\n",
    "cluster_size = int(nb_nodes/nb_clusters)\n",
    "n_time_steps = 1340 # time length"
   ]
  },
  {
   "cell_type": "markdown",
   "metadata": {},
   "source": [
    "Set $p_{intra}$ and compute $p_{inter}$:"
   ]
  },
  {
   "cell_type": "code",
   "execution_count": null,
   "metadata": {},
   "outputs": [],
   "source": [
    "p_intra = 0.00621\n",
    "p_inter = 2*L/(nb_clusters*(nb_clusters-1)*cluster_size**2) - (cluster_size-1)*p_intra/((nb_clusters-1)*cluster_size)"
   ]
  },
  {
   "cell_type": "markdown",
   "metadata": {},
   "source": [
    "Set the matches between the 5 clusters (bubbles) in the temporal cluster tournaments"
   ]
  },
  {
   "cell_type": "code",
   "execution_count": null,
   "metadata": {},
   "outputs": [],
   "source": [
    "matches = [[(1,8), (2,3), (4,7), (5,6), (0,9)], \n",
    "           [(1,3), (6,0), (7,5), (8,4), (9,2)], \n",
    "           [(1,9), (2,6), (4,3), (8,7), (0,5)], \n",
    "           [(3,8), (2,5), (6,1), (7,0), (9,4)], \n",
    "           [(1,5), (2,0), (3,7), (4,6), (8,9)],\n",
    "           [(5,4), (6,8), (7,2), (9,3), (0,1)],\n",
    "           [(1,2), (3,6), (4,0), (8,5), (9,7)],\n",
    "           [(1,7), (2,4), (5,3), (6,9), (0,8)],\n",
    "           [(3,0), (4,1), (7,6), (8,2), (9,5)]]\n",
    "P = []\n",
    "for n in range(len(matches)):\n",
    "    x = p_inter*9\n",
    "    Q = np.full((nb_clusters,nb_clusters),0.00000)\n",
    "    for match in matches[n]:\n",
    "        Q[match] = x\n",
    "        Q[match[::-1]] = x\n",
    "    np.fill_diagonal(Q, p_intra)\n",
    "    P.append(Q) # P è una lista di matrici Q"
   ]
  },
  {
   "cell_type": "markdown",
   "metadata": {},
   "source": [
    "Set the length in time of each tournament"
   ]
  },
  {
   "cell_type": "code",
   "execution_count": 5,
   "metadata": {},
   "outputs": [],
   "source": [
    "round_days = 5\n",
    "match_len = 12*round_days # length of each match: nb_days days with 2h interval"
   ]
  },
  {
   "cell_type": "markdown",
   "metadata": {},
   "source": [
    "Generate the networks"
   ]
  },
  {
   "cell_type": "code",
   "execution_count": 7,
   "metadata": {},
   "outputs": [],
   "source": [
    "sizes = [cluster_size for n in range(nb_clusters)]"
   ]
  },
  {
   "cell_type": "code",
   "execution_count": 8,
   "metadata": {},
   "outputs": [],
   "source": [
    "graphs = []\n",
    "n = 0\n",
    "while len(graphs) < n_time_steps:\n",
    "    for time_step in range(match_len):\n",
    "        G = nx.stochastic_block_model(sizes, P[n])\n",
    "        graphs.append(G)\n",
    "    n += 1\n",
    "    if n == len(P):\n",
    "        n = 0"
   ]
  },
  {
   "cell_type": "markdown",
   "metadata": {},
   "source": [
    "How many days?"
   ]
  },
  {
   "cell_type": "code",
   "execution_count": 9,
   "metadata": {},
   "outputs": [
    {
     "data": {
      "text/plain": [
       "180.0"
      ]
     },
     "execution_count": 9,
     "metadata": {},
     "output_type": "execute_result"
    }
   ],
   "source": [
    "len(graphs)/12"
   ]
  },
  {
   "cell_type": "markdown",
   "metadata": {},
   "source": [
    "Save graph"
   ]
  },
  {
   "cell_type": "code",
   "execution_count": 10,
   "metadata": {},
   "outputs": [],
   "source": [
    "name = '%dnodes/%dclusters_%dnodes/temporal_net_p_intra%.2E_p_inter%.2E_rounds%ddays_long'%(nb_nodes,nb_clusters,cluster_size,p_intra,p_inter,round_days)\n",
    "temporal_graph_save(graphs, name)"
   ]
  },
  {
   "cell_type": "markdown",
   "metadata": {},
   "source": [
    "## 20 clusters"
   ]
  },
  {
   "cell_type": "code",
   "execution_count": 1,
   "metadata": {},
   "outputs": [],
   "source": [
    "nb_nodes = 680\n",
    "L = 400 # average nb of links\n",
    "nb_clusters = 20\n",
    "cluster_size = int(nb_nodes/nb_clusters)\n",
    "n_time_steps = 1340 # time length"
   ]
  },
  {
   "cell_type": "markdown",
   "metadata": {},
   "source": [
    "Set $p_{intra}$ and compute $p_{inter}$:"
   ]
  },
  {
   "cell_type": "code",
   "execution_count": 3,
   "metadata": {},
   "outputs": [],
   "source": [
    "p_intra = 0.02286\n",
    "p_inter = 2*L/(nb_clusters*(nb_clusters-1)*cluster_size**2) - (cluster_size-1)*p_intra/((nb_clusters-1)*cluster_size)"
   ]
  },
  {
   "cell_type": "markdown",
   "metadata": {},
   "source": [
    "Set the matches between the 5 clusters (bubbles) in the temporal cluster tournaments"
   ]
  },
  {
   "cell_type": "code",
   "execution_count": 4,
   "metadata": {},
   "outputs": [],
   "source": [
    "matches = [[(1,2), (3,4), (5,6), (7,8), (9,10), (11,12), (13,14), (15,16), (17,18), (19,0)],\n",
    "           [(6,17), (4,13), (14,1), (0,3), (16,5), (12,9), (8,15), (2,11), (10,19), (18,7)],\n",
    "           [(12,17), (3,6), (19,8), (15,2), (13,10), (11,4), (9,0), (7,16), (5,14), (18,1)],\n",
    "           [(16,17), (4,5), (6,9), (12,3), (8,11), (10,1), (18,19), (14,15), (2,7), (0,13)],\n",
    "           [(11,18), (7,6), (17,9), (14,4), (1,12), (13,8), (0,15), (3,10), (16,19), (5,2)],\n",
    "           [(4,8), (6,15), (16,0), (12,19), (9,3), (2,14), (10,7), (5,11), (18,13), (1,17)],\n",
    "           [(3,5), (19,1), (0,12), (15,10), (8,18), (13,6), (11,9), (2,4), (7,17), (14,16)],\n",
    "           [(3,19), (17,11), (14,6), (16,8), (9,13), (10,2), (7,4), (5,12), (18,0), (1,15)],\n",
    "           [(8,6), (4,18), (13,17), (11,16), (14,7), (0,1), (2,3), (19,5), (15,9), (12,10)],\n",
    "           [(3,11), (17,19), (6,12), (16,4), (8,14), (5,9), (10,0), (7,15), (18,2), (1,13)],\n",
    "           [(6,4), (0,8), (15,3), (12,14), (13,19), (11,7), (9,1), (2,16), (5,17), (18,10)],\n",
    "           [(4,15), (19,9), (17,3), (6,11), (16,10), (8,2), (13,12), (7,0), (1,5), (18,14)],\n",
    "           [(3,1), (0,2), (14,17), (6,19), (12,4), (11,13), (9,16), (10,8), (5,7), (18,15)],\n",
    "           [(4,0), (19,11), (15,12), (16,18), (8,17), (13,5), (2,9), (7,3), (1,6), (14,10)],\n",
    "           [(3,13), (4,10), (9,8), (11,1), (12,7), (6,16), (17,15), (0,14), (2,19), (18,5)],\n",
    "           [(4,1), (0,6), (15,11), (16,13), (8,12), (2,17), (10,5), (7,9), (18,3), (14,19)],\n",
    "           [(3,14), (19,15), (17,10), (6,18), (16,12), (13,2), (0,11), (9,4), (5,8), (1,7)],\n",
    "           [(4,17), (0,5), (15,13), (16,3), (8,1), (12,2), (10,6), (7,19), (18,9), (14,11)],\n",
    "           [(1,16), (19,4), (17,0), (6,2), (12,18), (13,7), (11,10), (9,14), (5,15), (3,8)]\n",
    "          ]"
   ]
  },
  {
   "cell_type": "code",
   "execution_count": 5,
   "metadata": {},
   "outputs": [],
   "source": [
    "P = []\n",
    "for n in range(len(matches)):\n",
    "    x = p_inter*19\n",
    "    Q = np.full((nb_clusters,nb_clusters),0.00000)\n",
    "    for match in matches[n]:\n",
    "        Q[match] = x\n",
    "        Q[match[::-1]] = x\n",
    "    np.fill_diagonal(Q, p_intra)\n",
    "    P.append(Q) # P è una lista di matrici Q"
   ]
  },
  {
   "cell_type": "markdown",
   "metadata": {},
   "source": [
    "Set the length in time of each tournament"
   ]
  },
  {
   "cell_type": "code",
   "execution_count": 6,
   "metadata": {},
   "outputs": [],
   "source": [
    "round_days = 20\n",
    "match_len = 12*round_days # length of each match: nb_days days with 2h interval"
   ]
  },
  {
   "cell_type": "markdown",
   "metadata": {},
   "source": [
    "Generate the networks"
   ]
  },
  {
   "cell_type": "code",
   "execution_count": 7,
   "metadata": {},
   "outputs": [],
   "source": [
    "sizes = [cluster_size for n in range(nb_clusters)]"
   ]
  },
  {
   "cell_type": "code",
   "execution_count": 8,
   "metadata": {},
   "outputs": [],
   "source": [
    "graphs = []\n",
    "n = 0\n",
    "while len(graphs) < n_time_steps:\n",
    "    for time_step in range(match_len):\n",
    "        G = nx.stochastic_block_model(sizes, P[n])\n",
    "        graphs.append(G)\n",
    "    n += 1\n",
    "    if n == len(P):\n",
    "        n = 0"
   ]
  },
  {
   "cell_type": "markdown",
   "metadata": {},
   "source": [
    "Save graphs:"
   ]
  },
  {
   "cell_type": "code",
   "execution_count": 9,
   "metadata": {},
   "outputs": [
    {
     "name": "stdout",
     "output_type": "stream",
     "text": [
      "20clusters_34nodes/temporal_net_p_intra2.29E-02_p_inter6.53E-04_rounds20days\n"
     ]
    }
   ],
   "source": [
    "name = '%dnodes/%dclusters_%dnodes/temporal_net_p_intra%.2E_p_inter%.2E_rounds%ddays'%(nb_nodes,nb_clusters,cluster_size,p_intra,p_inter,round_days)\n",
    "print(name)\n",
    "\n",
    "temporal_graph_save(graphs, name)"
   ]
  },
  {
   "cell_type": "code",
   "execution_count": null,
   "metadata": {},
   "outputs": [],
   "source": []
  }
 ],
 "metadata": {
  "kernelspec": {
   "display_name": "Python 3",
   "language": "python",
   "name": "python3"
  },
  "language_info": {
   "codemirror_mode": {
    "name": "ipython",
    "version": 3
   },
   "file_extension": ".py",
   "mimetype": "text/x-python",
   "name": "python",
   "nbconvert_exporter": "python",
   "pygments_lexer": "ipython3",
   "version": "3.7.0"
  }
 },
 "nbformat": 4,
 "nbformat_minor": 4
}

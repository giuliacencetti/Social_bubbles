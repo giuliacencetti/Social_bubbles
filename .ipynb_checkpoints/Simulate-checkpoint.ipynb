{
 "cells": [
  {
   "cell_type": "markdown",
   "metadata": {},
   "source": [
    "# Social bubbles with Covid"
   ]
  },
  {
   "cell_type": "markdown",
   "metadata": {},
   "source": [
    "This notebook demonstrates the use of the simulator on the network with bubbles."
   ]
  },
  {
   "cell_type": "markdown",
   "metadata": {},
   "source": [
    "### Imports and setup"
   ]
  },
  {
   "cell_type": "code",
   "execution_count": 1,
   "metadata": {},
   "outputs": [],
   "source": [
    "import numpy as np\n",
    "import simulation_functions_new as DCT\n",
    "from utils import temporal_graph_load\n",
    "from tqdm.notebook import tqdm\n",
    "import pickle\n",
    "import os\n",
    "\n",
    "%load_ext autoreload\n",
    "%autoreload 2"
   ]
  },
  {
   "cell_type": "markdown",
   "metadata": {},
   "source": [
    "### Define the parameters of the simulation"
   ]
  },
  {
   "cell_type": "code",
   "execution_count": 2,
   "metadata": {},
   "outputs": [],
   "source": [
    "eps_I_list = [0.1,0.25,0.4]\n",
    "eps_T_list = [0,0.01,0.1,0.4]"
   ]
  },
  {
   "cell_type": "code",
   "execution_count": 4,
   "metadata": {},
   "outputs": [],
   "source": [
    "nb_ideas = 20\n",
    "K = 10\n",
    "k_threshold = np.full(nb_ideas,K)"
   ]
  },
  {
   "cell_type": "code",
   "execution_count": 5,
   "metadata": {},
   "outputs": [],
   "source": [
    "PARAMETERS = {'temporal_gap' : 3600*2,              # Temporal gap between static networks (sec)\n",
    "              'nb_nodes' : 680,                     # Nb nodes\n",
    "              'nb_clusters' : 10,                   # Nb of clusters in networks\n",
    "              'nb_ideas' : len(k_threshold),        # Nb of ideas\n",
    "              'nb_links' : 400,                     # nb of links in networks\n",
    "              'memory_contacts' : 7,                # Tracing memory (days)\n",
    "              'max_time_quar' : 10,                 # Quarantine duration (days)\n",
    "              'max_time_iso' : 25,                  # Isolation duration (days)\n",
    "              'eps_Is' : eps_I_list,                # Isolation effectivity\n",
    "              'eps_Ts' : eps_T_list,                # Tracing effectivity\n",
    "              'recov_time' : 25,                    # recovery time\n",
    "              'k_threshold' : k_threshold,          # Knowledge spreading parameter\n",
    "              'times' : 200,                      # Number of repetition of the simulation\n",
    "              'seed' : 11,                          # Random seed \n",
    "              'symptomatics' : 0.8,                 # Fraction of symptomatic individuals \n",
    "              'testing' : 0.0,                      # Fraction of asymptomatics who are detected via random testing\n",
    "              'net' : net,\n",
    "              'store':{'to_store': True,            # Save the results?\n",
    "                       'path_to_store':'RESULTS/'}} # Target folder to save the results"
   ]
  },
  {
   "cell_type": "code",
   "execution_count": 7,
   "metadata": {},
   "outputs": [],
   "source": [
    "nb_clusters = PARAMETERS['nb_clusters']\n",
    "nb_nodes = PARAMETERS['nb_nodes']\n",
    "cluster_size = int(nb_nodes/nb_clusters)\n",
    "L = PARAMETERS['nb_links']"
   ]
  },
  {
   "cell_type": "code",
   "execution_count": 8,
   "metadata": {},
   "outputs": [],
   "source": [
    "def update_store_path(path_to_store,eps_I,eps_T):\n",
    "    if all(el == PARAMETERS['k_threshold'][0] for el in PARAMETERS['k_threshold']): # True if all K are the same\n",
    "        name='/epsI_' + str(eps_I)+'_epsT_'+str(eps_T) + '_kThresh_'+str(PARAMETERS['k_threshold'][0])+'/'\n",
    "    else:\n",
    "         name='/epsI_' + str(eps_I)+'_epsT_'+str(eps_T) + '_kThresh_mix2/'\n",
    "    path_to_store += name\n",
    "\n",
    "    if not os.path.exists(path_to_store):\n",
    "        os.makedirs(path_to_store)\n",
    "    return path_to_store"
   ]
  },
  {
   "cell_type": "markdown",
   "metadata": {},
   "source": [
    "## Run the simulations and store the results"
   ]
  },
  {
   "cell_type": "code",
   "execution_count": 9,
   "metadata": {},
   "outputs": [],
   "source": [
    "# Initialize the random seed\n",
    "np.random.seed(PARAMETERS['seed'])"
   ]
  },
  {
   "cell_type": "markdown",
   "metadata": {},
   "source": [
    "Set temporal clustering:\n",
    "\n",
    "if rounds = False there is no temporal clustering (variable $round_{days}$ is not used)\n",
    "\n",
    "if rounds = True there is, the variable $round_{days}$ sets the duration in time of each match between couples of clusters (bubbles)"
   ]
  },
  {
   "cell_type": "code",
   "execution_count": 10,
   "metadata": {},
   "outputs": [],
   "source": [
    "rounds = True\n",
    "round_days = 10"
   ]
  },
  {
   "cell_type": "markdown",
   "metadata": {},
   "source": [
    "Simulate the process for each value of $p_{intra}$ (each run is saved):"
   ]
  },
  {
   "cell_type": "code",
   "execution_count": 11,
   "metadata": {},
   "outputs": [
    {
     "name": "stdout",
     "output_type": "stream",
     "text": [
      "p_intra 0.01203\n"
     ]
    },
    {
     "ename": "FileNotFoundError",
     "evalue": "[Errno 2] No such file or directory: 'Graphs/850nodes/10clusters_85nodes/temporal_net_p_intra1.20E-02_p_inter6.01E-04_rounds10days/num_snapshots.txt'",
     "output_type": "error",
     "traceback": [
      "\u001b[0;31m---------------------------------------------------------------------------\u001b[0m",
      "\u001b[0;31mFileNotFoundError\u001b[0m                         Traceback (most recent call last)",
      "\u001b[0;32m<ipython-input-11-5bf85b8dd00a>\u001b[0m in \u001b[0;36m<module>\u001b[0;34m()\u001b[0m\n\u001b[1;32m     12\u001b[0m         \u001b[0mgraph_name\u001b[0m \u001b[0;34m+=\u001b[0m \u001b[0;34m'_rounds%ddays'\u001b[0m\u001b[0;34m%\u001b[0m\u001b[0mround_days\u001b[0m\u001b[0;34m\u001b[0m\u001b[0m\n\u001b[1;32m     13\u001b[0m \u001b[0;34m\u001b[0m\u001b[0m\n\u001b[0;32m---> 14\u001b[0;31m     \u001b[0mgraphs\u001b[0m \u001b[0;34m=\u001b[0m \u001b[0mtemporal_graph_load\u001b[0m\u001b[0;34m(\u001b[0m\u001b[0mgraph_name\u001b[0m\u001b[0;34m)\u001b[0m\u001b[0;34m\u001b[0m\u001b[0m\n\u001b[0m\u001b[1;32m     15\u001b[0m     \u001b[0mpath_to_store\u001b[0m \u001b[0;34m=\u001b[0m \u001b[0mPARAMETERS\u001b[0m\u001b[0;34m[\u001b[0m\u001b[0;34m'store'\u001b[0m\u001b[0;34m]\u001b[0m\u001b[0;34m[\u001b[0m\u001b[0;34m'path_to_store'\u001b[0m\u001b[0;34m]\u001b[0m \u001b[0;34m+\u001b[0m \u001b[0mgraph_name\u001b[0m\u001b[0;34m\u001b[0m\u001b[0m\n\u001b[1;32m     16\u001b[0m \u001b[0;34m\u001b[0m\u001b[0m\n",
      "\u001b[0;32m~/Documents/Progetti_post_doc/bolle_sociali/code/server code/utils.py\u001b[0m in \u001b[0;36mtemporal_graph_load\u001b[0;34m(name)\u001b[0m\n\u001b[1;32m    144\u001b[0m     \u001b[0mpath\u001b[0m \u001b[0;34m=\u001b[0m \u001b[0;34m'Graphs/'\u001b[0m \u001b[0;34m+\u001b[0m \u001b[0mname\u001b[0m \u001b[0;34m+\u001b[0m \u001b[0;34m'/'\u001b[0m\u001b[0;34m\u001b[0m\u001b[0m\n\u001b[1;32m    145\u001b[0m \u001b[0;34m\u001b[0m\u001b[0m\n\u001b[0;32m--> 146\u001b[0;31m     \u001b[0;32mwith\u001b[0m \u001b[0mopen\u001b[0m\u001b[0;34m(\u001b[0m\u001b[0mpath\u001b[0m \u001b[0;34m+\u001b[0m \u001b[0;34m'num_snapshots.txt'\u001b[0m\u001b[0;34m,\u001b[0m \u001b[0;34m'r'\u001b[0m\u001b[0;34m)\u001b[0m \u001b[0;32mas\u001b[0m \u001b[0minput\u001b[0m\u001b[0;34m:\u001b[0m\u001b[0;34m\u001b[0m\u001b[0m\n\u001b[0m\u001b[1;32m    147\u001b[0m         \u001b[0mn_graphs\u001b[0m \u001b[0;34m=\u001b[0m \u001b[0mint\u001b[0m\u001b[0;34m(\u001b[0m\u001b[0mfloat\u001b[0m\u001b[0;34m(\u001b[0m\u001b[0minput\u001b[0m\u001b[0;34m.\u001b[0m\u001b[0mread\u001b[0m\u001b[0;34m(\u001b[0m\u001b[0;34m)\u001b[0m\u001b[0;34m)\u001b[0m\u001b[0;34m)\u001b[0m\u001b[0;34m\u001b[0m\u001b[0m\n\u001b[1;32m    148\u001b[0m \u001b[0;34m\u001b[0m\u001b[0m\n",
      "\u001b[0;31mFileNotFoundError\u001b[0m: [Errno 2] No such file or directory: 'Graphs/850nodes/10clusters_85nodes/temporal_net_p_intra1.20E-02_p_inter6.01E-04_rounds10days/num_snapshots.txt'"
     ]
    }
   ],
   "source": [
    "for p_intra in [0.00621,0.0121,0.01485,0.01393,0.01609,0.01655,0.01679,0.01694,0.01704,0.01717]: \n",
    "    print('p_intra',p_intra)\n",
    "    p_inter = 2*L/(nb_clusters*(nb_clusters-1)*cluster_size**2) - (cluster_size-1)*p_intra/((nb_clusters-1)*cluster_size)\n",
    "    graph_name = '%dnodes/%dclusters_%dnodes/temporal_net_p_intra%.2E_p_inter%.2E'%(nb_nodes,nb_clusters,cluster_size,p_intra,p_inter)\n",
    "    if rounds:\n",
    "        graph_name += '_rounds%ddays'%round_days\n",
    "        \n",
    "    graphs = temporal_graph_load(graph_name)\n",
    "    path_to_store = PARAMETERS['store']['path_to_store'] + graph_name\n",
    "    \n",
    "    for eps_I in eps_I_list:\n",
    "        for eps_T in eps_T_list:\n",
    "        \n",
    "            print('eps_I',eps_I,'eps_T',eps_T)\n",
    "            \n",
    "            path_to_store_upd = update_store_path(path_to_store,eps_I,eps_T)\n",
    "            \n",
    "            print(path_to_store_upd)\n",
    "\n",
    "            # Print some report\n",
    "            print('-' * 100)\n",
    "            print('Running simulation with')\n",
    "            print('       |_ eps_T             : %4.2f'   % eps_T)\n",
    "            print('       |_ eps_I             : %.3f'   % eps_I)\n",
    "            print('       |_ p_intra             : %.5f'   % p_intra)\n",
    "            print('')\n",
    "\n",
    "\n",
    "            # Repeat the simulation for a fixed configuration             \n",
    "            for i in tqdm(range(PARAMETERS['times'])):\n",
    "                \n",
    "                # Initialize the simulation object\n",
    "                dct = DCT.DigitalContactTracing(path_to_store_upd,\n",
    "                                                graphs=graphs,\n",
    "                                                PARAMETERS = PARAMETERS,\n",
    "                                                eps_I=eps_I,\n",
    "                                                eps_T=eps_T,\n",
    "                                                realization=i)\n",
    "                # Run the actual simulation\n",
    "                res = dct.simulate()\n"
   ]
  },
  {
   "cell_type": "code",
   "execution_count": null,
   "metadata": {},
   "outputs": [],
   "source": []
  }
 ],
 "metadata": {
  "kernelspec": {
   "display_name": "Python 3",
   "language": "python",
   "name": "python3"
  },
  "language_info": {
   "codemirror_mode": {
    "name": "ipython",
    "version": 3
   },
   "file_extension": ".py",
   "mimetype": "text/x-python",
   "name": "python",
   "nbconvert_exporter": "python",
   "pygments_lexer": "ipython3",
   "version": "3.7.0"
  }
 },
 "nbformat": 4,
 "nbformat_minor": 2
}

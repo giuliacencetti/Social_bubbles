{
 "cells": [
  {
   "cell_type": "code",
   "execution_count": 1,
   "metadata": {},
   "outputs": [],
   "source": [
    "import numpy as np\n",
    "from scipy.stats import sem\n",
    "import matplotlib.pyplot as plt\n",
    "from tinydb import TinyDB  "
   ]
  },
  {
   "cell_type": "code",
   "execution_count": 2,
   "metadata": {},
   "outputs": [],
   "source": [
    "plt.rcParams.update({'font.size': 15})"
   ]
  },
  {
   "cell_type": "markdown",
   "metadata": {},
   "source": [
    "If save_1st_time = True it loads the results of the simulations, it aggregates them and save the aggregated results, then it plots.\n",
    "\n",
    "If save_1st_time = False it loads the aggregated results directly and it plots."
   ]
  },
  {
   "cell_type": "code",
   "execution_count": 3,
   "metadata": {},
   "outputs": [],
   "source": [
    "save_1st_time = False"
   ]
  },
  {
   "cell_type": "markdown",
   "metadata": {},
   "source": [
    "## Parameters"
   ]
  },
  {
   "cell_type": "code",
   "execution_count": 4,
   "metadata": {},
   "outputs": [],
   "source": [
    "eps_I_list = [0.1,0.25,0.4]\n",
    "eps_T_list = [0,0.01,0.1,0.4]"
   ]
  },
  {
   "cell_type": "code",
   "execution_count": 5,
   "metadata": {},
   "outputs": [],
   "source": [
    "K = 10\n",
    "nb_ideas = 20\n",
    "k_threshold = np.full(nb_ideas,K)"
   ]
  },
  {
   "cell_type": "code",
   "execution_count": 6,
   "metadata": {},
   "outputs": [],
   "source": [
    "PARAMETERS = {'temporal_gap' : 3600*2,              # Temporal gap between static networks (sec)\n",
    "              'nb_nodes' : 680,                     # Nb nodes\n",
    "              'nb_clusters' : 10,                   # Nb of clusters in networks\n",
    "              'nb_ideas' : len(k_threshold),        # Nb of ideas\n",
    "              'nb_links' : 400,                     # nb of links in networks\n",
    "              'memory_contacts' : 7,                # Tracing memory (days)\n",
    "              'max_time_quar' : 10,                 # Quarantine duration (days)\n",
    "              'max_time_iso' : 25,                  # Isolation duration (days)\n",
    "              'eps_Is' : eps_I_list,                # Isolation effectivity\n",
    "              'eps_Ts' : eps_T_list,                # Tracing effectivity\n",
    "              'recov_time' : 25,                    # recovery time\n",
    "              'k_threshold' : k_threshold,          # Knowledge spreading parameter\n",
    "              'times' : 200,                      # Number of repetition of the simulation\n",
    "              'seed' : 11,                          # Random seed \n",
    "              'symptomatics' : 0.8,                 # Fraction of symptomatic individuals \n",
    "              'testing' : 0.0,                      # Fraction of asymptomatics who are detected via random testing\n",
    "              'net' : net,\n",
    "              'store':{'to_store': True,            # Save the results?\n",
    "                       'path_to_store':'RESULTS/'}} # Target folder to save the results"
   ]
  },
  {
   "cell_type": "code",
   "execution_count": 7,
   "metadata": {},
   "outputs": [],
   "source": [
    "nb_clusters = PARAMETERS['nb_clusters']\n",
    "nb_nodes = PARAMETERS['nb_nodes']\n",
    "cluster_size = int(nb_nodes/nb_clusters)\n",
    "L = PARAMETERS['nb_links']"
   ]
  },
  {
   "cell_type": "markdown",
   "metadata": {},
   "source": [
    "Set temporal clustering:\n",
    "\n",
    "if rounds = False there is no temporal clustering (variable $round_{days}$ is not used)\n",
    "\n",
    "if rounds = True there is, the variable $round_{days}$ sets the duration in time of each match between couples of clusters (bubbles)"
   ]
  },
  {
   "cell_type": "code",
   "execution_count": 8,
   "metadata": {},
   "outputs": [],
   "source": [
    "rounds = False\n",
    "round_days = 20"
   ]
  },
  {
   "cell_type": "markdown",
   "metadata": {},
   "source": [
    "## Functions"
   ]
  },
  {
   "cell_type": "code",
   "execution_count": 9,
   "metadata": {},
   "outputs": [],
   "source": [
    "def update_load_path(load_path,eps_I,eps_T):\n",
    "    \n",
    "    if all(el == PARAMETERS['k_threshold'][0] for el in PARAMETERS['k_threshold']): # True if all K are the same\n",
    "        name='/epsI_' + str(eps_I)+'_epsT_'+str(eps_T) + '_kThresh_'+str(PARAMETERS['k_threshold'][0])+'/'\n",
    "    else:\n",
    "         name='/epsI_' + str(eps_I)+'_epsT_'+str(eps_T) + '_kThresh_mix2/'\n",
    "    load_path += name\n",
    "\n",
    "    return load_path"
   ]
  },
  {
   "cell_type": "code",
   "execution_count": 10,
   "metadata": {},
   "outputs": [],
   "source": [
    "def load_res(PARAMETERS):\n",
    "    path = PARAMETERS['store']['path_to_store'] + graph_name\n",
    "    path = update_load_path(path,eps_I,eps_T)\n",
    "    print(path)\n",
    "\n",
    "    for real in range(PARAMETERS['times']): # for each realization\n",
    "        # load act_inf:\n",
    "        tmp = np.load(path + '%d_act_inf.npy'%real,allow_pickle=True)\n",
    "        globals()['r%d_act_inf'%real] = tmp.item().todense()\n",
    "        # load isolated:\n",
    "        tmp = np.load(path + '%d_isolated.npy'%real,allow_pickle=True)\n",
    "        globals()['r%d_isolated'%real] = tmp.item().todense()\n",
    "        # load recovered:\n",
    "        tmp = np.load(path + '%d_recovered.npy'%real,allow_pickle=True)\n",
    "        globals()['r%d_recovered'%real] = tmp.item().todense()\n",
    "        if eps_T > 0:\n",
    "            # load quarantined:\n",
    "            tmp = np.load(path + '%d_quarantined.npy'%real,allow_pickle=True)\n",
    "            globals()['r%d_quarantined'%real] = tmp.item().todense()\n",
    "            # load infected quarantined:\n",
    "            tmp = np.load(path + '%d_quar_inf.npy'%real,allow_pickle=True)\n",
    "            globals()['r%d_quar_inf'%real] = tmp.item().todense()\n",
    "\n",
    "        # load ideas_per_node and nodes_per_idea at all times:\n",
    "        tmp = np.load(path + '%d_ideas_per_node.npy'%real,allow_pickle=True)\n",
    "        globals()['r%d_ideas_per_node'%real] = tmp.item().todense()\n"
   ]
  },
  {
   "cell_type": "code",
   "execution_count": 11,
   "metadata": {},
   "outputs": [],
   "source": [
    "def obtain_filename(meas):\n",
    "    filename = 'Figures_data/%dnodes/%dclusters_%dnodes/'%(nb_nodes,nb_clusters,cluster_size)+meas+'_p_intra_%.2E_epsI_%.2f_epsT_%.3f_kThresh_%.3f'%(p_intra,eps_I,eps_T,K)\n",
    "    if rounds:\n",
    "        filename += '_rounds%ddays'%round_days\n",
    "    filename += '.npy'\n",
    "    return filename"
   ]
  },
  {
   "cell_type": "code",
   "execution_count": 12,
   "metadata": {},
   "outputs": [],
   "source": [
    "def plot_avg_std(data_mean,data_std,days,alpha,color,color2,line,ax,linewidth,label):\n",
    "    diff_a = data_mean - data_std\n",
    "    diff_a = [max(0,x) for x in diff_a]\n",
    "    ax.plot(days,data_mean,line,color=color,label=label,linewidth=linewidth)\n",
    "    plt.fill_between(days,data_mean+data_std,data_mean,color=color2,alpha=alpha)\n",
    "    plt.fill_between(days,data_mean,diff_a,color=color2,alpha=alpha)\n"
   ]
  },
  {
   "cell_type": "code",
   "execution_count": 13,
   "metadata": {},
   "outputs": [],
   "source": [
    "def aggregate_results_inf(times,meas_name):\n",
    "    for real in range(times): # for each realization\n",
    "        #print(real)\n",
    "        globals()['r%d_meas_nb'%real] = np.sum(globals()[meas_name%real],axis=1)\n",
    "        \n",
    "    # I put r%d_meas_nb all together in a matrix:\n",
    "    meas_nb_all_real = r0_meas_nb\n",
    "    for real in range(1,times): # for each realization\n",
    "        meas_nb_all_real = np.hstack((meas_nb_all_real, globals()['r%d_meas_nb'%real]))\n",
    "\n",
    "    # Average over all realizations:\n",
    "    meas_mean = np.mean(meas_nb_all_real,axis=1)\n",
    "    meas_mean = np.array(meas_mean.T)[0]\n",
    "    meas_sem = sem(meas_nb_all_real,axis=1)\n",
    "\n",
    "    \n",
    "    return meas_mean, meas_sem"
   ]
  },
  {
   "cell_type": "code",
   "execution_count": 14,
   "metadata": {},
   "outputs": [],
   "source": [
    "def aggregate_results_ideas(times):\n",
    "    for real in range(times): # for each realization\n",
    "        globals()['r%d_Ideas_mean'%real] = np.mean(globals()['r%d_ideas_per_node'%real],axis=1)# average on nodes\n",
    "        \n",
    "    # I put r%d_Ideas_mean all together in a matrix:\n",
    "    Ideas_mean_all_real = r0_Ideas_mean\n",
    "    for real in range(1,times): # for each realization\n",
    "        Ideas_mean_all_real = np.hstack((Ideas_mean_all_real, globals()['r%d_Ideas_mean'%real]))\n",
    "\n",
    "    # Average over all realizations:\n",
    "    Ideas_mean = np.mean(Ideas_mean_all_real,axis=1)\n",
    "    Ideas_mean = np.array(Ideas_mean.T)[0]\n",
    "    Ideas_sem = sem(Ideas_mean_all_real,axis=1)\n",
    "    \n",
    "    return Ideas_mean, Ideas_sem"
   ]
  },
  {
   "cell_type": "code",
   "execution_count": 15,
   "metadata": {},
   "outputs": [],
   "source": [
    "def time_flags(PARAMETERS,nb_clusters,Ideas_mean):\n",
    "    flag1cluster = 0\n",
    "    flag25 = 0\n",
    "    flag50 = 0\n",
    "    flag80 = 0\n",
    "    if nb_clusters == 5:\n",
    "        perc1cl = 0.2\n",
    "    elif nb_clusters == 10:\n",
    "        perc1cl = 0.1\n",
    "    elif nb_clusters == 20:\n",
    "        perc1cl = 0.05\n",
    "    for t_idx in range(len(Ideas_mean)):\n",
    "        if Ideas_mean[t_idx] >= PARAMETERS['nb_ideas']*perc1cl and flag1cluster==0:\n",
    "            t1cl_idx = t_idx\n",
    "            flag1cluster = 1\n",
    "        if Ideas_mean[t_idx] >= PARAMETERS['nb_ideas']*0.25 and flag25==0:\n",
    "            t25_idx = t_idx\n",
    "            flag25 = 1\n",
    "        if Ideas_mean[t_idx] >= PARAMETERS['nb_ideas']*0.5 and flag50==0:\n",
    "            t50_idx = t_idx\n",
    "            flag50 = 1\n",
    "        if Ideas_mean[t_idx] >= PARAMETERS['nb_ideas']*0.8 and flag80==0:\n",
    "            t80_idx = t_idx\n",
    "            flag80 = 1\n",
    "            \n",
    "    if flag1cluster == 0:\n",
    "        t1cl_idx = 250/(PARAMETERS['temporal_gap']/3600/24)\n",
    "    if flag25 == 0:\n",
    "        t25_idx = 250/(PARAMETERS['temporal_gap']/3600/24)\n",
    "    if flag50 == 0:\n",
    "        t50_idx = 250/(PARAMETERS['temporal_gap']/3600/24)\n",
    "    if flag80 == 0:\n",
    "        t80_idx = 250/(PARAMETERS['temporal_gap']/3600/24)       \n",
    "        \n",
    "    return t1cl_idx,t25_idx,t50_idx,t80_idx"
   ]
  },
  {
   "cell_type": "code",
   "execution_count": 16,
   "metadata": {},
   "outputs": [],
   "source": [
    "# palette\n",
    "act_inf_color = '#2e4057'\n",
    "iso_color = '#048ba8'\n",
    "rec_color = '#818c9a'\n",
    "quar_color = '#99c24d'\n",
    "sim_inf_color = '#f18f01'\n",
    "know_color = '#7d4c7b'\n",
    "k1cl_color = '#362035'#'#643c62'\n",
    "k50_color = '#856284'#'#976f95'\n",
    "k80_color = '#CCB2CE'#'#bea5bd'"
   ]
  },
  {
   "cell_type": "code",
   "execution_count": 17,
   "metadata": {},
   "outputs": [],
   "source": [
    "def plot(t1cl_idx,t25_idx,t50_idx,t80_idx):\n",
    "\n",
    "    days = np.array(range(len(ActInf_mean)))*PARAMETERS['temporal_gap']/3600/24\n",
    "    alpha = 0.25\n",
    "\n",
    "    fig, ax1 = plt.subplots(figsize=(14,3))\n",
    "    plot_avg_std(ActInf_mean,ActInf_sem,days,alpha,act_inf_color,act_inf_color,'-',ax1,3,'active infected')\n",
    "    plot_avg_std(Iso_mean,Iso_sem,days,alpha,iso_color,iso_color,'-',ax1,3,'isolated')\n",
    "    plot_avg_std(Rec_mean,Rec_sem,days,alpha,rec_color,rec_color,'-',ax1,3,'recovered')\n",
    "\n",
    "    if eps_T > 0:\n",
    "        plot_avg_std(Quar_mean,Quar_sem,days,0.4,quar_color,quar_color,'-',ax1,3,'quarantined')\n",
    "        nb_inf_mean = Iso_mean+ActInf_mean+Quar_inf_mean\n",
    "        nb_inf_sem = Iso_sem+ActInf_sem+Quar_inf_sem\n",
    "    elif eps_T == 0:\n",
    "        nb_inf_mean = Iso_mean+ActInf_mean\n",
    "        nb_inf_sem = Iso_sem+ActInf_sem\n",
    "    plot_avg_std(nb_inf_mean,nb_inf_sem,days,alpha,sim_inf_color,sim_inf_color,'-',ax1,3,'simultaneous inf.')\n",
    "    maxInf = max(nb_inf_mean)\n",
    "    maxInf_i = nb_inf_mean.argmax()*PARAMETERS['temporal_gap']/3600/24\n",
    "    plt.hlines(maxInf,0,maxInf_i,colors=sim_inf_color,alpha=1,linestyle='--',linewidth=1.5)\n",
    "    plt.plot(maxInf_i,maxInf,'o',c=sim_inf_color)\n",
    "\n",
    "    print('maxInf',maxInf)\n",
    "\n",
    "    if all(el == PARAMETERS['k_threshold'][0] for el in PARAMETERS['k_threshold']): # True if all K are the same\n",
    "        K = PARAMETERS['k_threshold'][0]\n",
    "    plt.gca().set_ylim(top=490)\n",
    "    ax1.set_xlabel('Time [days]') \n",
    "    ax1.spines['top'].set_color('none')\n",
    "    ax1.set_ylabel('Individuals') \n",
    "\n",
    "    ax2 = ax1.twinx()  # instantiate a second axes that shares the same x-axis\n",
    "\n",
    "    ax2.set_ylabel('Mean knowledge') \n",
    "    plot_avg_std(Ideas_mean,Ideas_sem,days,alpha,know_color,know_color,'-',ax2,3,'Ideas per node')\n",
    "    t1cl = t1cl_idx*PARAMETERS['temporal_gap']/3600/24\n",
    "    print('1st cluster of knowledge at time ',t1cl)\n",
    "    if t1cl <= 120:\n",
    "        I_t1cl = Ideas_mean[t1cl_idx]\n",
    "        ax2.plot(t1cl,I_t1cl,'o',c=k1cl_color,markersize=8)\n",
    "        ax2.vlines(x=t1cl, ymin=0, ymax=I_t1cl, color=k1cl_color)\n",
    "    t25 = t25_idx*PARAMETERS['temporal_gap']/3600/24\n",
    "    print('25% of knowledge at time ',t25)\n",
    "    t50 = t50_idx*PARAMETERS['temporal_gap']/3600/24\n",
    "    print('50% of knowledge at time ',t50)\n",
    "    if t50 <= 120:\n",
    "        I_t50 = Ideas_mean[t50_idx]\n",
    "        ax2.plot(t50,I_t50,'o',c=k50_color,markersize=8)\n",
    "        ax2.vlines(x=t50, ymin=0, ymax=I_t50, color=k50_color)\n",
    "    t80 = t80_idx*PARAMETERS['temporal_gap']/3600/24\n",
    "    print('80% of knowledge at time ',t80)\n",
    "    if t80 <= 120:\n",
    "        I_t80 = Ideas_mean[t80_idx]\n",
    "        ax2.plot(t80,I_t80,'o',c=k80_color,markersize=8)\n",
    "        ax2.vlines(x=t80, ymin=0, ymax=I_t80, color=k80_color)\n",
    "    plt.gca().set_ylim(top=PARAMETERS['nb_ideas'])\n",
    "    ax2.spines['top'].set_color('none')\n",
    "    plt.gca().set_ylim(top=20.5)\n",
    "\n",
    "    figname = 'Figures/%dnodes/%dclusters_%dnodes/time_evol_p_intra_%.2E_epsI_%.2f_epsT_%.3f_kThresh_%.3f'%(nb_nodes,nb_clusters,cluster_size,p_intra,eps_I,eps_T,K)\n",
    "    \n",
    "    if rounds:\n",
    "        figname += '_rounds%ddays'%round_days\n",
    "    figname += '_ideas_y.pdf'\n",
    "    plt.savefig(figname,bbox_inches='tight')\n",
    "    plt.show()\n",
    "    \n",
    "    print(figname)\n",
    "    \n",
    "    return maxInf,t1cl,t25,t50,t80"
   ]
  },
  {
   "cell_type": "markdown",
   "metadata": {},
   "source": [
    "## Load results"
   ]
  },
  {
   "cell_type": "markdown",
   "metadata": {},
   "source": [
    "Load act_inf, isolated, recovered, quarantined, ideas_per_node, nodes_per_idea, eff_edgelist"
   ]
  },
  {
   "cell_type": "code",
   "execution_count": 22,
   "metadata": {
    "scrolled": true
   },
   "outputs": [
    {
     "name": "stdout",
     "output_type": "stream",
     "text": [
      "p 2.672347592589759\n",
      "eps_I 0.1 eps_T 0.1\n",
      "maxInf 184.67999999999998\n",
      "1st cluster of knowledge at time  68.91666666666667\n",
      "25% of knowledge at time  75.91666666666667\n",
      "50% of knowledge at time  87.91666666666667\n",
      "80% of knowledge at time  101.91666666666667\n"
     ]
    },
    {
     "data": {
      "image/png": "[encoded data removed]",
      "text/plain": [
       "<Figure size 1008x216 with 2 Axes>"
      ]
     },
     "metadata": {},
     "output_type": "display_data"
    },
    {
     "name": "stdout",
     "output_type": "stream",
     "text": [
      "Figures/680nodes/10clusters_68nodes/time_evol_p_intra_6.21E-03_epsI_0.10_epsT_0.100_kThresh_10.000_ideas_y.pdf\n"
     ]
    }
   ],
   "source": [
    "for p_intra in [0.00621,0.01203,0.01481,0.01605,0.01650,0.0167445]: \n",
    " \n",
    "    p_inter = 2*L/(nb_clusters*(nb_clusters-1)*cluster_size**2) - (cluster_size-1)*p_intra/((nb_clusters-1)*cluster_size)\n",
    "    print('p',p_intra/p_inter)\n",
    "    graph_name = '%dnodes/%dclusters_%dnodes/temporal_net_p_intra%.2E_p_inter%.2E'%(nb_nodes,nb_clusters,cluster_size,p_intra,p_inter)\n",
    "    if rounds:\n",
    "        graph_name += '_rounds%ddays'%round_days\n",
    "    for eps_I in eps_I_list:\n",
    "        for eps_T in eps_T_list:\n",
    "            print('eps_I',eps_I,'eps_T',eps_T)\n",
    "\n",
    "            if save_1st_time:\n",
    "                # Load\n",
    "                load_res(PARAMETERS)\n",
    "                # Aggregate:\n",
    "                ActInf_mean, ActInf_sem = aggregate_results_inf(PARAMETERS['times'],'r%d_act_inf')\n",
    "                Iso_mean, Iso_sem = aggregate_results_inf(PARAMETERS['times'],'r%d_isolated')\n",
    "                Rec_mean, Rec_sem = aggregate_results_inf(PARAMETERS['times'],'r%d_recovered')\n",
    "                if eps_T > 0:\n",
    "                    Quar_mean, Quar_sem = aggregate_results_inf(PARAMETERS['times'],'r%d_quarantined')\n",
    "                    Quar_inf_mean, Quar_inf_sem = aggregate_results_inf(PARAMETERS['times'],'r%d_quar_inf')\n",
    "                Ideas_mean, Ideas_sem = aggregate_results_ideas(PARAMETERS['times'])\n",
    "\n",
    "                # Save:\n",
    "                filename = obtain_filename('Act_inf')\n",
    "                np.save(filename,[ActInf_mean,ActInf_sem])\n",
    "\n",
    "                filename = obtain_filename('Iso')\n",
    "                np.save(filename,[Iso_mean,Iso_sem])\n",
    "\n",
    "                filename = obtain_filename('Rec')\n",
    "                np.save(filename,[Rec_mean,Rec_sem])\n",
    "\n",
    "                if eps_T > 0:\n",
    "                    filename = obtain_filename('Quar')\n",
    "                    np.save(filename,[Quar_mean,Quar_sem])\n",
    "\n",
    "                    filename = obtain_filename('Quar_inf')\n",
    "                    np.save(filename,[Quar_inf_mean,Quar_inf_sem])  \n",
    "                filename = obtain_filename('IdeasperNode')\n",
    "                np.save(filename,[Ideas_mean,Ideas_sem])   \n",
    "\n",
    "            else:\n",
    "                # Load already aggregated results\n",
    "                filename = obtain_filename('Act_inf')\n",
    "                ActInf_mean, ActInf_sem = np.load(filename,allow_pickle=True)\n",
    "                filename = obtain_filename('Iso')\n",
    "                Iso_mean, Iso_sem = np.load(filename,allow_pickle=True)\n",
    "                filename = obtain_filename('Rec')\n",
    "                Rec_mean, Rec_sem = np.load(filename,allow_pickle=True)\n",
    "                if eps_T > 0:\n",
    "                    filename = obtain_filename('Quar')\n",
    "                    Quar_mean,Quar_sem = np.load(filename,allow_pickle=True)\n",
    "                    filename = obtain_filename('Quar_inf')\n",
    "                    Quar_inf_mean,Quar_inf_sem = np.load(filename,allow_pickle=True)\n",
    "                filename = obtain_filename('IdeasperNode')\n",
    "                Ideas_mean,Ideas_sem = np.load(filename,allow_pickle=True)\n",
    "\n",
    "            # Plot\n",
    "            t1cl_idx,t25_idx,t50_idx,t80_idx = time_flags(PARAMETERS,nb_clusters,Ideas_mean)\n",
    "            maxInf,t1cl,t25,t50,t80 = plot(t1cl_idx,t25_idx,t50_idx,t80_idx)\n",
    "\n",
    "            # save in database\n",
    "            \n",
    "            if save_1st_time:        \n",
    "                if eps_T == 0:\n",
    "                    db = TinyDB(\"RESULTS/%dnodes/Aggregate_res_bubbles_%dclusters.json\"%(nb_nodes,nb_clusters))\n",
    "                else:\n",
    "                    db = TinyDB(\"RESULTS/%dnodes/Aggregate_res_quarantines_%dclusters.json\"%(nb_nodes,nb_clusters))\n",
    "\n",
    "                if rounds == False:\n",
    "                    rounds_flag = False\n",
    "                else:\n",
    "                    rounds_flag = round_days\n",
    "\n",
    "                new_item = {\"p_intra\": round(p_intra,5),\n",
    "                            \"p\": int(round(p_intra/p_inter)),\n",
    "                            \"epsI\": eps_I, \n",
    "                            \"epsT\": eps_T, \n",
    "                            \"Rounds\": rounds_flag,\n",
    "                            \"maxInf\": maxInf, \n",
    "                            \"Time1cl\": t1cl,\n",
    "                            \"Time25\": t25,\n",
    "                            \"Time50\": t50,\n",
    "                            \"Time80\": t80}\n",
    "                db.insert(new_item) \n",
    "            \n",
    "            #db.all()\n",
    "            "
   ]
  },
  {
   "cell_type": "code",
   "execution_count": null,
   "metadata": {},
   "outputs": [],
   "source": []
  },
  {
   "cell_type": "code",
   "execution_count": null,
   "metadata": {},
   "outputs": [],
   "source": []
  }
 ],
 "metadata": {
  "kernelspec": {
   "display_name": "Python 3",
   "language": "python",
   "name": "python3"
  },
  "language_info": {
   "codemirror_mode": {
    "name": "ipython",
    "version": 3
   },
   "file_extension": ".py",
   "mimetype": "text/x-python",
   "name": "python",
   "nbconvert_exporter": "python",
   "pygments_lexer": "ipython3",
   "version": "3.7.0"
  }
 },
 "nbformat": 4,
 "nbformat_minor": 4
}

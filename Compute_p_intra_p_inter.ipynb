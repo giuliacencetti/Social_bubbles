{
 "cells": [
  {
   "cell_type": "code",
   "execution_count": 1,
   "metadata": {},
   "outputs": [],
   "source": [
    "import numpy as np\n",
    "from utils import temporal_graph_load\n",
    "from tqdm.notebook import tqdm\n",
    "\n",
    "%load_ext autoreload\n",
    "%autoreload 2"
   ]
  },
  {
   "cell_type": "code",
   "execution_count": 2,
   "metadata": {},
   "outputs": [],
   "source": [
    "net = 'DTU'\n",
    "#net = 'synth'"
   ]
  },
  {
   "cell_type": "code",
   "execution_count": 3,
   "metadata": {},
   "outputs": [],
   "source": [
    "eps_I_list = [0.25]\n",
    "eps_T_list = [0.1]\n",
    "PARAMETERS = {'temporal_gap' : 300,           # Temporal gap between static networks (sec)\n",
    "              'nb_clusters' : 10,                   # Nb of clusters in networks\n",
    "              'cluster_size' : 67,                  # Cluster size\n",
    "              'nb_links' : 91,                    # nb of links in networks\n",
    "              'memory_contacts' : 7,                # Tracing memory (days)\n",
    "              'max_time_quar' : 10,                 # Quarantine duration (days)\n",
    "              'max_time_iso' : 30,                  # Isolation duration (days)\n",
    "              'eps_Is' : eps_I_list,                # Isolation effectivity\n",
    "              'eps_Ts' : eps_T_list,                # Tracing effectivity\n",
    "              'lam_k' : 0.002,                      # Knowledge spreading parameter\n",
    "              'times' : 40,                        # Number of repetition of the simulation\n",
    "              'seed' : 5,                          # Random seed \n",
    "              'Y_i' : 1,                            # Number of initially infected people\n",
    "              'nc' : 0.0,                             # Fraction of individuals who are not adopting the app\n",
    "              'symptomatics' : 0.8,                 # Fraction of symptomatic individuals \n",
    "              'testing' : 0.0,                      # Fraction of asymptomatics who are detected via random testing\n",
    "              'net' : net,\n",
    "              'store':{'to_store': True,            # Save the results?\n",
    "                       'path_to_store':'RESULTS/'}} # Target folder to save the results"
   ]
  },
  {
   "cell_type": "code",
   "execution_count": 4,
   "metadata": {},
   "outputs": [],
   "source": [
    "def w_mean(vector,weights):\n",
    "    num = 0\n",
    "    if len(vector) != len(weights):\n",
    "        print('error')\n",
    "    else:\n",
    "        for i in range(len(vector)):\n",
    "            num += vector[i]*weights[i]\n",
    "        den = sum(weights)\n",
    "        res = num/den\n",
    "        return res"
   ]
  },
  {
   "cell_type": "markdown",
   "metadata": {},
   "source": [
    "## Prova su reti sintetiche "
   ]
  },
  {
   "cell_type": "code",
   "execution_count": 5,
   "metadata": {},
   "outputs": [],
   "source": [
    "net = 'synth'"
   ]
  },
  {
   "cell_type": "code",
   "execution_count": 6,
   "metadata": {},
   "outputs": [],
   "source": [
    "nb_clusters = PARAMETERS['nb_clusters']\n",
    "cluster_size = PARAMETERS['cluster_size']\n",
    "L = PARAMETERS['nb_links']"
   ]
  },
  {
   "cell_type": "code",
   "execution_count": 7,
   "metadata": {},
   "outputs": [],
   "source": [
    "#for p_intra in [0.00179,0.00229,0.00277,0.00317,0.00348,0.00370,0.00385,0.00395,0.00401]:\n",
    "for p_intra in [0.00317]:\n",
    "    p_inter = 2*L/(nb_clusters*(nb_clusters-1)*cluster_size**2) - (cluster_size-1)*p_intra/((nb_clusters-1)*cluster_size)\n",
    "    graph_name = 'temporal_net_p_intra%.2E_p_inter%.2E'%(p_intra,p_inter)\n",
    "    graphs = temporal_graph_load(graph_name)"
   ]
  },
  {
   "cell_type": "markdown",
   "metadata": {},
   "source": [
    "Compute nb of links:"
   ]
  },
  {
   "cell_type": "code",
   "execution_count": 8,
   "metadata": {},
   "outputs": [],
   "source": [
    "nb_links = 0\n",
    "for n in range(len(graphs)):\n",
    "    nb_links += len(graphs[n].edges())\n",
    "nb_links = nb_links/len(graphs)"
   ]
  },
  {
   "cell_type": "code",
   "execution_count": 9,
   "metadata": {},
   "outputs": [
    {
     "data": {
      "text/plain": [
       "91.071475"
      ]
     },
     "execution_count": 9,
     "metadata": {},
     "output_type": "execute_result"
    }
   ],
   "source": [
    "nb_links"
   ]
  },
  {
   "cell_type": "markdown",
   "metadata": {},
   "source": [
    "Compute $p_{intra}$ and $p_{inter}$:"
   ]
  },
  {
   "cell_type": "code",
   "execution_count": 10,
   "metadata": {},
   "outputs": [],
   "source": [
    "intra_cluster_links = []\n",
    "extra_cluster_links = []\n",
    "for n in range(nb_clusters):\n",
    "    intra_cluster_n = 0\n",
    "    extra_cluster_n = 0\n",
    "    for node in range(n*cluster_size, (n+1)*cluster_size):\n",
    "        for graph in graphs:\n",
    "            neighs = graph.neighbors(node)\n",
    "            for neigh_node in neighs:\n",
    "                if n*cluster_size <= neigh_node < (n+1)*cluster_size:\n",
    "                    intra_cluster_n += 1\n",
    "                else:\n",
    "                    extra_cluster_n += 1\n",
    "    intra_cluster_n /= 2\n",
    "    extra_cluster_n /= 2\n",
    "    \n",
    "    intra_cluster_links.append(intra_cluster_n)\n",
    "    extra_cluster_links.append(extra_cluster_n)\n",
    "    n += 1\n",
    "\n",
    "intra_links = np.mean(intra_cluster_links) # media sui diversi cluster\n",
    "inter_links = np.mean(extra_cluster_links)\n",
    "      "
   ]
  },
  {
   "cell_type": "code",
   "execution_count": 11,
   "metadata": {},
   "outputs": [
    {
     "name": "stdout",
     "output_type": "stream",
     "text": [
      "estimated p_intra 0.003172473993668023  real p_intra 0.00317\n"
     ]
    }
   ],
   "source": [
    "estimated_p_intra = intra_links/(len(graphs)*cluster_size*(cluster_size-1)/2)\n",
    "print('estimated p_intra',estimated_p_intra,' real p_intra',p_intra)"
   ]
  },
  {
   "cell_type": "code",
   "execution_count": 12,
   "metadata": {},
   "outputs": [
    {
     "name": "stdout",
     "output_type": "stream",
     "text": [
      "estimated p_inter 0.00010360176728298805  real p_inter 0.00010351872478403995\n"
     ]
    }
   ],
   "source": [
    "nb_nodes = cluster_size*PARAMETERS['nb_clusters']\n",
    "estimated_p_inter = inter_links/(len(graphs)*cluster_size*(nb_nodes - cluster_size)/2)\n",
    "print('estimated p_inter',estimated_p_inter,' real p_inter',p_inter)"
   ]
  },
  {
   "cell_type": "markdown",
   "metadata": {},
   "source": [
    "Funziona!"
   ]
  },
  {
   "cell_type": "markdown",
   "metadata": {},
   "source": [
    "## Calcolo su DTU"
   ]
  },
  {
   "cell_type": "code",
   "execution_count": 13,
   "metadata": {},
   "outputs": [],
   "source": [
    "net = 'DTU'"
   ]
  },
  {
   "cell_type": "code",
   "execution_count": 14,
   "metadata": {},
   "outputs": [],
   "source": [
    "graph_name = 'DTU_temporal_gap_%d_rssi_filter_-80_relabeled'%PARAMETERS['temporal_gap']\n",
    "#p_intra  = 0.00277\n",
    "#p_inter = 2.7282800584048545e-05\n",
    "#graph_name = 'prova_DTU_p_intra%.2E_p_inter%.2E'%(p_intra,p_inter)\n",
    "graphs = temporal_graph_load(graph_name)"
   ]
  },
  {
   "cell_type": "markdown",
   "metadata": {},
   "source": [
    "Compute nb of links:"
   ]
  },
  {
   "cell_type": "code",
   "execution_count": 15,
   "metadata": {},
   "outputs": [],
   "source": [
    "nb_links = 0\n",
    "for n in range(len(graphs)):\n",
    "    nb_links += len(graphs[n].edges())\n",
    "nb_links = nb_links/len(graphs)"
   ]
  },
  {
   "cell_type": "code",
   "execution_count": 16,
   "metadata": {},
   "outputs": [
    {
     "data": {
      "text/plain": [
       "90.71958328165695"
      ]
     },
     "execution_count": 16,
     "metadata": {},
     "output_type": "execute_result"
    }
   ],
   "source": [
    "nb_links"
   ]
  },
  {
   "cell_type": "code",
   "execution_count": 17,
   "metadata": {},
   "outputs": [],
   "source": [
    "part_d = np.load('partition_d_10clusters.npy',allow_pickle=True)[0]"
   ]
  },
  {
   "cell_type": "code",
   "execution_count": 18,
   "metadata": {},
   "outputs": [
    {
     "data": {
      "text/plain": [
       "[57, 102, 45, 55, 135, 99, 106, 67, 7, 2]"
      ]
     },
     "execution_count": 18,
     "metadata": {},
     "output_type": "execute_result"
    }
   ],
   "source": [
    "sizes = [0 for n in range(max(part_d.values())+1)]\n",
    "for node in part_d.keys():\n",
    "    sizes[part_d[node]] += 1\n",
    "sizes"
   ]
  },
  {
   "cell_type": "code",
   "execution_count": 19,
   "metadata": {},
   "outputs": [],
   "source": [
    "nb_clusters = len(sizes)\n",
    "clusters = []\n",
    "for n in range(nb_clusters):\n",
    "    clusters.append([k for k,v in part_d.items() if v == n])"
   ]
  },
  {
   "cell_type": "markdown",
   "metadata": {},
   "source": [
    "Compute $p_{intra}$ and $p_{inter}$:"
   ]
  },
  {
   "cell_type": "code",
   "execution_count": 20,
   "metadata": {},
   "outputs": [],
   "source": [
    "intra_cluster_links_DTU = []\n",
    "extra_cluster_links_DTU = []\n",
    "for n in range(nb_clusters):\n",
    "    intra_cluster_n = 0\n",
    "    extra_cluster_n = 0\n",
    "    for node in clusters[n]:\n",
    "        for graph in graphs:\n",
    "            if node in graph:\n",
    "                neighs = graph.neighbors(node)\n",
    "                for neigh_node in neighs:\n",
    "                    if neigh_node in clusters[n]:\n",
    "                        intra_cluster_n += 1\n",
    "                    else:\n",
    "                        extra_cluster_n += 1\n",
    "    intra_cluster_n /= 2\n",
    "    extra_cluster_n /= 2\n",
    "    \n",
    "    intra_cluster_links_DTU.append(intra_cluster_n)\n",
    "    extra_cluster_links_DTU.append(extra_cluster_n)\n",
    "    n += 1\n",
    "\n",
    "#intra_links = np.mean(intra_cluster_links_DTU) # media sui diversi cluster\n",
    "#inter_links = np.mean(extra_cluster_links_DTU)\n",
    "      "
   ]
  },
  {
   "cell_type": "code",
   "execution_count": 21,
   "metadata": {},
   "outputs": [
    {
     "data": {
      "text/plain": [
       "array([0.0044092 , 0.002045  , 0.00435034, 0.00367777, 0.00181729,\n",
       "       0.00174481, 0.00166697, 0.0031274 , 0.03563603, 0.60300136])"
      ]
     },
     "execution_count": 21,
     "metadata": {},
     "output_type": "execute_result"
    }
   ],
   "source": [
    "p_intra_clusters = np.zeros(nb_clusters)\n",
    "for n in range(nb_clusters):\n",
    "    p_intra_clusters[n] = intra_cluster_links_DTU[n]/(len(graphs)*sizes[n]*(sizes[n]-1)/2)\n",
    "p_intra_clusters"
   ]
  },
  {
   "cell_type": "code",
   "execution_count": 22,
   "metadata": {},
   "outputs": [
    {
     "name": "stdout",
     "output_type": "stream",
     "text": [
      "estimated p_intra 0.002282698393185423\n"
     ]
    }
   ],
   "source": [
    "w = [n*(n-1) for n in sizes]\n",
    "estimated_p_intra = w_mean(p_intra_clusters,w)\n",
    "print('estimated p_intra',estimated_p_intra)#,'real p_intra',p_intra)"
   ]
  },
  {
   "cell_type": "code",
   "execution_count": 23,
   "metadata": {},
   "outputs": [
    {
     "data": {
      "text/plain": [
       "array([6.96940200e-05, 1.10037112e-04, 1.10969151e-04, 1.22084770e-04,\n",
       "       1.34712459e-04, 8.99464835e-05, 1.23712816e-04, 7.15167837e-05,\n",
       "       6.40009116e-05, 3.94368346e-05])"
      ]
     },
     "execution_count": 23,
     "metadata": {},
     "output_type": "execute_result"
    }
   ],
   "source": [
    "nb_nodes = 675\n",
    "\n",
    "p_inter_clusters = np.zeros(nb_clusters)\n",
    "for n in range(nb_clusters):\n",
    "    p_inter_clusters[n] = extra_cluster_links_DTU[n]/(len(graphs)*sizes[n]*(nb_nodes - sizes[n])/2)\n",
    "p_inter_clusters"
   ]
  },
  {
   "cell_type": "code",
   "execution_count": 24,
   "metadata": {},
   "outputs": [
    {
     "name": "stdout",
     "output_type": "stream",
     "text": [
      "estimated p_inter 0.00011224904144768468\n"
     ]
    }
   ],
   "source": [
    "w = [n*(n-1) for n in sizes]\n",
    "estimated_p_inter = w_mean(p_inter_clusters,w)\n",
    "print('estimated p_inter',estimated_p_inter)#,'real p_inter',p_inter)"
   ]
  },
  {
   "cell_type": "markdown",
   "metadata": {},
   "source": [
    "Verifiche:"
   ]
  },
  {
   "cell_type": "code",
   "execution_count": 31,
   "metadata": {},
   "outputs": [],
   "source": [
    "#import matplotlib.pyplot as plt\n",
    "#plt.plot(sizes,'+') \n"
   ]
  },
  {
   "cell_type": "code",
   "execution_count": 32,
   "metadata": {},
   "outputs": [],
   "source": [
    "#plt.plot(p_intra_clusters, 'o')\n",
    "#plt.plot(p_inter_clusters,'s')"
   ]
  },
  {
   "cell_type": "code",
   "execution_count": 33,
   "metadata": {},
   "outputs": [],
   "source": [
    "#N = len(part_d)\n",
    "#term1 = 0\n",
    "#term2 = 0\n",
    "#for i in range(len(sizes)):\n",
    "#    term1 += sizes[i]*(sizes[i] - 1)*estimated_p_intra/2\n",
    "#    term2 += sizes[i]*(N - sizes[i])*estimated_p_inter/2\n",
    "\n",
    "#term1 + term2\n"
   ]
  },
  {
   "cell_type": "code",
   "execution_count": null,
   "metadata": {},
   "outputs": [],
   "source": []
  },
  {
   "cell_type": "code",
   "execution_count": null,
   "metadata": {},
   "outputs": [],
   "source": []
  }
 ],
 "metadata": {
  "kernelspec": {
   "display_name": "Python 3",
   "language": "python",
   "name": "python3"
  },
  "language_info": {
   "codemirror_mode": {
    "name": "ipython",
    "version": 3
   },
   "file_extension": ".py",
   "mimetype": "text/x-python",
   "name": "python",
   "nbconvert_exporter": "python",
   "pygments_lexer": "ipython3",
   "version": "3.6.9"
  }
 },
 "nbformat": 4,
 "nbformat_minor": 4
}
